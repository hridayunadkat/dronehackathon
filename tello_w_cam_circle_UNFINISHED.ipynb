{
 "cells": [
  {
   "cell_type": "code",
   "execution_count": 1,
   "id": "f8fc84d8",
   "metadata": {},
   "outputs": [
    {
     "name": "stderr",
     "output_type": "stream",
     "text": [
      "[INFO] tello.py - 129 - Tello instance was initialized. Host: '192.168.10.1'. Port: '8889'.\n",
      "[INFO] tello.py - 438 - Send command: 'command'\n",
      "[INFO] tello.py - 462 - Response command: 'ok'\n",
      "[INFO] tello.py - 438 - Send command: 'streamon'\n"
     ]
    },
    {
     "name": "stdout",
     "output_type": "stream",
     "text": [
      "Connecting to Tello...\n",
      "Battery level: 82%\n"
     ]
    },
    {
     "name": "stderr",
     "output_type": "stream",
     "text": [
      "[INFO] tello.py - 462 - Response streamon: 'ok'\n"
     ]
    },
    {
     "name": "stdout",
     "output_type": "stream",
     "text": [
      "Press 't' to takeoff, 'c' to circle person, 'q' to land and quit.\n"
     ]
    },
    {
     "name": "stderr",
     "output_type": "stream",
     "text": [
      "2025-04-19 20:16:11.687 Python[21080:4263558] WARNING: Secure coding is automatically enabled for restorable state! However, not on all supported macOS versions of this application. Opt-in to secure coding explicitly by implementing NSApplicationDelegate.applicationSupportsSecureRestorableState:.\n",
      "[INFO] tello.py - 438 - Send command: 'takeoff'\n",
      "[INFO] tello.py - 462 - Response takeoff: 'ok'\n",
      "[INFO] tello.py - 438 - Send command: 'up 40'\n"
     ]
    },
    {
     "name": "stdout",
     "output_type": "stream",
     "text": [
      "Drone is now airborne, you can press c to circle or q to land.\n"
     ]
    },
    {
     "name": "stderr",
     "output_type": "stream",
     "text": [
      "[INFO] tello.py - 462 - Response up 40: 'ok'\n",
      "[INFO] tello.py - 438 - Send command: 'right 20'\n"
     ]
    },
    {
     "name": "stdout",
     "output_type": "stream",
     "text": [
      "Starting smooth circle around person...\n"
     ]
    },
    {
     "name": "stderr",
     "output_type": "stream",
     "text": [
      "[INFO] tello.py - 462 - Response right 20: 'ok'\n",
      "[INFO] tello.py - 438 - Send command: 'curve 60 0 0 55 22 0 30'\n",
      "[INFO] tello.py - 462 - Response curve 60 0 0 55 22 0 30: 'error Radius is too large!'\n",
      "[INFO] tello.py - 438 - Send command: 'curve 60 0 0 55 22 0 30'\n",
      "[INFO] tello.py - 462 - Response curve 60 0 0 55 22 0 30: 'error Radius is too large!'\n",
      "[INFO] tello.py - 438 - Send command: 'curve 60 0 0 55 22 0 30'\n",
      "[INFO] tello.py - 462 - Response curve 60 0 0 55 22 0 30: 'error Radius is too large!'\n"
     ]
    },
    {
     "name": "stdout",
     "output_type": "stream",
     "text": [
      "Curve command failed: Command 'curve 60 0 0 55 22 0 30' was unsuccessful for 4 tries. Latest response:\t'error Radius is too large!'\n"
     ]
    },
    {
     "name": "stderr",
     "output_type": "stream",
     "text": [
      "[INFO] tello.py - 438 - Send command: 'curve 42 42 0 22 55 0 30'\n",
      "[INFO] tello.py - 462 - Response curve 42 42 0 22 55 0 30: 'error Radius is too large!'\n",
      "[INFO] tello.py - 438 - Send command: 'curve 42 42 0 22 55 0 30'\n",
      "[INFO] tello.py - 462 - Response curve 42 42 0 22 55 0 30: 'error Radius is too large!'\n",
      "[INFO] tello.py - 438 - Send command: 'curve 42 42 0 22 55 0 30'\n",
      "[INFO] tello.py - 462 - Response curve 42 42 0 22 55 0 30: 'error Radius is too large!'\n"
     ]
    },
    {
     "name": "stdout",
     "output_type": "stream",
     "text": [
      "Curve command failed: Command 'curve 42 42 0 22 55 0 30' was unsuccessful for 4 tries. Latest response:\t'error Radius is too large!'\n"
     ]
    },
    {
     "name": "stderr",
     "output_type": "stream",
     "text": [
      "[INFO] tello.py - 438 - Send command: 'curve 0 60 0 -22 55 0 30'\n",
      "[INFO] tello.py - 462 - Response curve 0 60 0 -22 55 0 30: 'error Radius is too large!'\n",
      "[INFO] tello.py - 438 - Send command: 'curve 0 60 0 -22 55 0 30'\n",
      "[INFO] tello.py - 462 - Response curve 0 60 0 -22 55 0 30: 'error Radius is too large!'\n",
      "[INFO] tello.py - 438 - Send command: 'curve 0 60 0 -22 55 0 30'\n",
      "[INFO] tello.py - 462 - Response curve 0 60 0 -22 55 0 30: 'error Radius is too large!'\n"
     ]
    },
    {
     "name": "stdout",
     "output_type": "stream",
     "text": [
      "Curve command failed: Command 'curve 0 60 0 -22 55 0 30' was unsuccessful for 4 tries. Latest response:\t'error Radius is too large!'\n"
     ]
    },
    {
     "name": "stderr",
     "output_type": "stream",
     "text": [
      "[INFO] tello.py - 438 - Send command: 'curve -42 42 0 -55 22 0 30'\n",
      "[INFO] tello.py - 462 - Response curve -42 42 0 -55 22 0 30: 'error Radius is too large!'\n",
      "[INFO] tello.py - 438 - Send command: 'curve -42 42 0 -55 22 0 30'\n",
      "[INFO] tello.py - 462 - Response curve -42 42 0 -55 22 0 30: 'error Radius is too large!'\n",
      "[INFO] tello.py - 438 - Send command: 'curve -42 42 0 -55 22 0 30'\n",
      "[INFO] tello.py - 462 - Response curve -42 42 0 -55 22 0 30: 'error Radius is too large!'\n"
     ]
    },
    {
     "name": "stdout",
     "output_type": "stream",
     "text": [
      "Curve command failed: Command 'curve -42 42 0 -55 22 0 30' was unsuccessful for 4 tries. Latest response:\t'error Radius is too large!'\n"
     ]
    },
    {
     "name": "stderr",
     "output_type": "stream",
     "text": [
      "[INFO] tello.py - 438 - Send command: 'curve -60 0 0 -55 -22 0 30'\n",
      "[INFO] tello.py - 462 - Response curve -60 0 0 -55 -22 0 30: 'error Radius is too large!'\n",
      "[INFO] tello.py - 438 - Send command: 'curve -60 0 0 -55 -22 0 30'\n",
      "[INFO] tello.py - 462 - Response curve -60 0 0 -55 -22 0 30: 'error Radius is too large!'\n",
      "[INFO] tello.py - 438 - Send command: 'curve -60 0 0 -55 -22 0 30'\n",
      "[INFO] tello.py - 462 - Response curve -60 0 0 -55 -22 0 30: 'error Radius is too large!'\n"
     ]
    },
    {
     "name": "stdout",
     "output_type": "stream",
     "text": [
      "Curve command failed: Command 'curve -60 0 0 -55 -22 0 30' was unsuccessful for 4 tries. Latest response:\t'error Radius is too large!'\n"
     ]
    },
    {
     "name": "stderr",
     "output_type": "stream",
     "text": [
      "[INFO] tello.py - 438 - Send command: 'curve -42 -42 0 -22 -55 0 30'\n",
      "[INFO] tello.py - 462 - Response curve -42 -42 0 -22 -55 0 30: 'error Radius is too large!'\n",
      "[INFO] tello.py - 438 - Send command: 'curve -42 -42 0 -22 -55 0 30'\n",
      "[INFO] tello.py - 462 - Response curve -42 -42 0 -22 -55 0 30: 'error Radius is too large!'\n",
      "[INFO] tello.py - 438 - Send command: 'curve -42 -42 0 -22 -55 0 30'\n",
      "[INFO] tello.py - 462 - Response curve -42 -42 0 -22 -55 0 30: 'error Radius is too large!'\n",
      "[INFO] tello.py - 438 - Send command: 'land'\n"
     ]
    },
    {
     "name": "stdout",
     "output_type": "stream",
     "text": [
      "Curve command failed: Command 'curve -42 -42 0 -22 -55 0 30' was unsuccessful for 4 tries. Latest response:\t'error Radius is too large!'\n",
      "Interrupted. Landing drone.\n"
     ]
    },
    {
     "name": "stderr",
     "output_type": "stream",
     "text": [
      "[INFO] tello.py - 462 - Response land: 'ok'\n",
      "[INFO] tello.py - 438 - Send command: 'streamoff'\n",
      "[INFO] tello.py - 462 - Response streamoff: 'ok'\n"
     ]
    }
   ],
   "source": [
    "from djitellopy import Tello\n",
    "import cv2\n",
    "import numpy as np\n",
    "import time\n",
    "import math\n",
    "\n",
    "\n",
    "\n",
    "\n",
    "def detection_center(det):\n",
    "    cx = (det[3] + det[5]) / 2.0 - 0.5\n",
    "    cy = (det[4] + det[6]) / 2.0 - 0.5\n",
    "    return (cx, cy)\n",
    "\n",
    "\n",
    "\n",
    "\n",
    "def norm(vec):\n",
    "    return np.sqrt(vec[0]**2 + vec[1]**2)\n",
    "\n",
    "\n",
    "\n",
    "\n",
    "def closest_detection(detections):\n",
    "    best_det = None\n",
    "    min_dist = float('inf')\n",
    "    for det in detections[0, 0]:\n",
    "        if det[2] > 0.4 and int(det[1]) == 1:  # 'person'\n",
    "            center = detection_center(det)\n",
    "            distance = norm(center)\n",
    "            if distance < min_dist:\n",
    "                min_dist = distance\n",
    "                best_det = det\n",
    "    return best_det\n",
    "\n",
    "\n",
    "# def smooth_circle_around_person_test(tello):\n",
    "#     tello.move_right(4)\n",
    "#     tello.move_forward(3)\n",
    "#     tello.rotate_anticlockwise(37)\n",
    "#     time.sleep(0.2)\n",
    "\n",
    "# def smooth_circle_around_person(tello, center_x, steps=36, radius=60):\n",
    "#     \"\"\"\n",
    "#     Fly a smooth circle around the detected person.\n",
    "#     Minimum move length is enforced to avoid SDK 'out of range' errors.\n",
    "#     \"\"\"\n",
    "#     min_step = 20\n",
    "#     arc_len = max(int(2 * math.pi * radius / steps), min_step)\n",
    "#     rot_step = int(360 / steps)\n",
    "\n",
    "\n",
    "#     for i in range(steps):\n",
    "#         # Optional: recenters horizontally\n",
    "#         if center_x < 280:\n",
    "#             tello.move_left(arc_len)\n",
    "#         elif center_x > 440:\n",
    "#             tello.move_right(arc_len)\n",
    "\n",
    "\n",
    "#         tello.move_forward(arc_len)\n",
    "#         tello.rotate_clockwise(rot_step)\n",
    "#         time.sleep(0.2)\n",
    "\n",
    "def curve_circle_around_person(tello, center_x, steps=8, radius=80, speed=30):\n",
    "    \"\"\"\n",
    "    Fly a smooth circular path around the detected person using Tello's curve command.\n",
    "    \"\"\"\n",
    "    angle_step = 2 * math.pi / steps\n",
    "    z = 0  # Keep constant height relative to current\n",
    "    \n",
    "    # Optional: adjust to recenter drone based on detection\n",
    "    if center_x < 280:\n",
    "        tello.move_left(20)\n",
    "    elif center_x > 440:\n",
    "        tello.move_right(20)\n",
    "    time.sleep(0.2)\n",
    "\n",
    "    for i in range(steps):\n",
    "        theta1 = angle_step * i\n",
    "        theta2 = angle_step * (i + 0.5)\n",
    "        theta3 = angle_step * (i + 1)\n",
    "\n",
    "        # Avoid too-tight turns, enforce min difference between points\n",
    "        x1 = int(radius * math.cos(theta1))\n",
    "        y1 = int(radius * math.sin(theta1))\n",
    "        x2 = int(radius * math.cos(theta2))\n",
    "        y2 = int(radius * math.sin(theta2))\n",
    "        x3 = int(radius * math.cos(theta3))\n",
    "        y3 = int(radius * math.sin(theta3))\n",
    "\n",
    "        dist1 = math.sqrt((x1 - x2)**2 + (y1 - y2)**2)\n",
    "        dist2 = math.sqrt((x2 - x3)**2 + (y2 - y3)**2)\n",
    "\n",
    "        # Skip if distance too small\n",
    "        if dist1 < 20 or dist2 < 20:\n",
    "            print(f\"Skipping step {i} — move too small.\")\n",
    "            continue\n",
    "\n",
    "        try:\n",
    "            tello.curve_xyz_speed(x1, y1, z, x2, y2, z, speed)\n",
    "        except Exception as e:\n",
    "            print(f\"Curve command failed: {e}\")\n",
    "        time.sleep(0.5)\n",
    "\n",
    "\n",
    "\n",
    "\n",
    "\n",
    "\n",
    "\n",
    "# Load COCO class names\n",
    "with open('COCO/object_detection_classes_coco.txt', 'r') as f:\n",
    "    class_names = f.read().split('\\n')\n",
    "\n",
    "\n",
    "COLORS = np.random.uniform(0, 255, size=(len(class_names), 3))\n",
    "\n",
    "\n",
    "model = cv2.dnn.readNet(model='COCO/frozen_inference_graph.pb',\n",
    "                        config='COCO/ssd_mobilenet_v2_coco_2018_03_29.pbtxt.txt',\n",
    "                        framework='TensorFlow')\n",
    "\n",
    "\n",
    "tello = Tello()\n",
    "print(\"Connecting to Tello...\")\n",
    "tello.connect()\n",
    "print(f\"Battery level: {tello.get_battery()}%\")\n",
    "tello.streamon()\n",
    "\n",
    "\n",
    "print(\"Press 't' to takeoff, 'c' to circle person, 'q' to land and quit.\")\n",
    "drone_in_air = False\n",
    "\n",
    "\n",
    "try:\n",
    "    while True:\n",
    "        frame = tello.get_frame_read().frame\n",
    "        frame = cv2.resize(frame, (720, 480))\n",
    "        h, w, _ = frame.shape\n",
    "\n",
    "\n",
    "        blob = cv2.dnn.blobFromImage(frame, size=(300, 300), mean=(104, 117, 123), swapRB=True)\n",
    "        model.setInput(blob)\n",
    "        detections = model.forward()\n",
    "        det = closest_detection(detections)\n",
    "\n",
    "\n",
    "        if det is not None:\n",
    "            class_id = int(det[1])\n",
    "            class_name = class_names[class_id - 1]\n",
    "            color = COLORS[class_id]\n",
    "\n",
    "\n",
    "            x1 = int(det[3] * w)\n",
    "            y1 = int(det[4] * h)\n",
    "            x2 = int(det[5] * w)\n",
    "            y2 = int(det[6] * h)\n",
    "            cv2.rectangle(frame, (x1, y1), (x2, y2), color, 2)\n",
    "            label = f\"{class_name} {det[2]:.2f}\"\n",
    "            cv2.putText(frame, label, (x1, y1 - 5), cv2.FONT_HERSHEY_SIMPLEX, 0.5, color, 1)\n",
    "\n",
    "\n",
    "        cv2.imshow(\"Tello Tracking Feed\", frame)\n",
    "\n",
    "\n",
    "        key = cv2.waitKey(1) & 0xFF\n",
    "\n",
    "\n",
    "        if key == ord('t') and not drone_in_air:\n",
    "            tello.takeoff()\n",
    "            drone_in_air = True\n",
    "            print(\"Drone is now airborne, you can press c to circle or q to land.\")\n",
    "            tello.move_up(40)\n",
    "\n",
    "        if key == ord('c') and drone_in_air and det is not None:\n",
    "            center_x = (x1 + x2) // 2\n",
    "            print(\"Starting smooth circle around person...\")\n",
    "            curve_circle_around_person(tello, center_x=center_x, steps=8, radius=60, speed=30)\n",
    "            #smooth_circle_around_person(tello, center_x=center_x, steps=36, radius=30)\n",
    "            #smooth_circle_around_person_test(tello)\n",
    "\n",
    "\n",
    "        if key == ord('q'):\n",
    "            if drone_in_air:\n",
    "                tello.land()\n",
    "                print(\"Drone has landed.\")\n",
    "            break\n",
    "\n",
    "\n",
    "except Exception as e:\n",
    "    print(f\"Error: {e}\")\n",
    "    if drone_in_air:\n",
    "        tello.land()\n",
    "\n",
    "except KeyboardInterrupt:\n",
    "    print(\"Interrupted. Landing drone.\")\n",
    "    if drone_in_air:\n",
    "        tello.land()\n",
    "\n",
    "finally:\n",
    "    tello.streamoff()\n",
    "    cv2.destroyAllWindows()\n",
    "\n",
    "\n",
    "\n",
    "\n"
   ]
  }
 ],
 "metadata": {
  "kernelspec": {
   "display_name": "Python 3",
   "language": "python",
   "name": "python3"
  },
  "language_info": {
   "codemirror_mode": {
    "name": "ipython",
    "version": 3
   },
   "file_extension": ".py",
   "mimetype": "text/x-python",
   "name": "python",
   "nbconvert_exporter": "python",
   "pygments_lexer": "ipython3",
   "version": "3.9.6"
  }
 },
 "nbformat": 4,
 "nbformat_minor": 5
}
