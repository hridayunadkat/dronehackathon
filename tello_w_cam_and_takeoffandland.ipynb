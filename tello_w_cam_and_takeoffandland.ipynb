{
 "cells": [
  {
   "cell_type": "code",
   "execution_count": 1,
   "metadata": {},
   "outputs": [
    {
     "name": "stderr",
     "output_type": "stream",
     "text": [
      "[INFO] tello.py - 129 - Tello instance was initialized. Host: '192.168.10.1'. Port: '8889'.\n",
      "[INFO] tello.py - 438 - Send command: 'command'\n",
      "[INFO] tello.py - 462 - Response command: 'ok'\n",
      "[INFO] tello.py - 438 - Send command: 'streamon'\n"
     ]
    },
    {
     "name": "stdout",
     "output_type": "stream",
     "text": [
      "Connecting to Tello...\n",
      "Battery level: 67%\n"
     ]
    },
    {
     "name": "stderr",
     "output_type": "stream",
     "text": [
      "[INFO] tello.py - 462 - Response streamon: 'ok'\n"
     ]
    },
    {
     "name": "stdout",
     "output_type": "stream",
     "text": [
      "Press 't' to takeoff, 'q' to land and quit.\n"
     ]
    },
    {
     "name": "stderr",
     "output_type": "stream",
     "text": [
      "2025-04-19 16:45:05.253 Python[17105:4119753] WARNING: Secure coding is automatically enabled for restorable state! However, not on all supported macOS versions of this application. Opt-in to secure coding explicitly by implementing NSApplicationDelegate.applicationSupportsSecureRestorableState:.\n",
      "[INFO] tello.py - 438 - Send command: 'takeoff'\n",
      "[INFO] tello.py - 462 - Response takeoff: 'ok'\n"
     ]
    },
    {
     "name": "stdout",
     "output_type": "stream",
     "text": [
      "Drone is now airborne and hovering.\n"
     ]
    },
    {
     "name": "stderr",
     "output_type": "stream",
     "text": [
      "[INFO] tello.py - 438 - Send command: 'land'\n",
      "[INFO] tello.py - 462 - Response land: 'ok'\n",
      "[INFO] tello.py - 438 - Send command: 'streamoff'\n",
      "[INFO] tello.py - 462 - Response streamoff: 'ok'\n"
     ]
    },
    {
     "name": "stdout",
     "output_type": "stream",
     "text": [
      "Drone has landed.\n"
     ]
    }
   ],
   "source": [
    "from djitellopy import Tello\n",
    "import cv2\n",
    "import numpy as np\n",
    "import time\n",
    "\n",
    "#########\n",
    "# DETECTION\n",
    "#########\n",
    "# Load COCO class names\n",
    "with open('COCO/object_detection_classes_coco.txt', 'r') as f:\n",
    "    class_names = f.read().split('\\n')\n",
    "\n",
    "# Generate random colors for each class\n",
    "COLORS = np.random.uniform(0, 255, size=(len(class_names), 3))\n",
    "\n",
    "# Load the pretrained SSD MobileNet model\n",
    "model = cv2.dnn.readNet(model='COCO/frozen_inference_graph.pb',\n",
    "                        config='COCO/ssd_mobilenet_v2_coco_2018_03_29.pbtxt.txt',\n",
    "                        framework='TensorFlow')\n",
    "\n",
    "# Create and connect to Tello\n",
    "tello = Tello()\n",
    "print(\"Connecting to Tello...\")\n",
    "tello.connect()\n",
    "print(f\"Battery level: {tello.get_battery()}%\")\n",
    "\n",
    "# Start video stream\n",
    "tello.streamon()\n",
    "\n",
    "####\n",
    "# Initialize Camera\n",
    "#####\n",
    "print(\"Press 't' to takeoff, 'q' to land and quit.\")\n",
    "\n",
    "# Drone state\n",
    "drone_in_air = False\n",
    "\n",
    "while True:\n",
    "    # Get video frame from Tello\n",
    "    frame = tello.get_frame_read().frame\n",
    "    frame = cv2.resize(frame, (720, 480))\n",
    "\n",
    "    image_height, image_width, _ = frame.shape\n",
    "\n",
    "    # Create blob from image\n",
    "    blob = cv2.dnn.blobFromImage(image=frame, size=(300, 300), mean=(104, 117, 123), swapRB=True)\n",
    "\n",
    "    # Set input and run forward pass\n",
    "    model.setInput(blob)\n",
    "    detections = model.forward()\n",
    "\n",
    "    # Loop through detections\n",
    "    for detection in detections[0, 0, :, :]:\n",
    "        confidence = detection[2]\n",
    "        class_id = int(detection[1])\n",
    "\n",
    "        if confidence > 0.4 and class_id == 1:  # Only detect 'person'\n",
    "            class_name = class_names[class_id - 1]\n",
    "            color = COLORS[class_id]\n",
    "\n",
    "            box_x = int(detection[3] * image_width)\n",
    "            box_y = int(detection[4] * image_height)\n",
    "            box_width = int(detection[5] * image_width)\n",
    "            box_height = int(detection[6] * image_height)\n",
    "\n",
    "            # Draw rectangle and label\n",
    "            cv2.rectangle(frame, (box_x, box_y), (box_width, box_height), color, 2)\n",
    "            label = f\"{class_name} {confidence:.2f}\"\n",
    "            cv2.putText(frame, label, (box_x, box_y - 5), cv2.FONT_HERSHEY_SIMPLEX, 0.5, color, 1)\n",
    "\n",
    "    # Show video feed\n",
    "    cv2.imshow(\"Tello Detection Feed\", frame)\n",
    "\n",
    "    # Check for user input\n",
    "    key = cv2.waitKey(1) & 0xFF\n",
    "\n",
    "    # Press 't' to take off if drone is on the ground\n",
    "    if key == ord('t') and not drone_in_air:\n",
    "        tello.takeoff()\n",
    "        drone_in_air = True\n",
    "        print(\"Drone is now airborne and hovering.\")\n",
    "\n",
    "    # Press 'q' to land and quit\n",
    "    if key == ord('q'):\n",
    "        if drone_in_air:\n",
    "            tello.land()\n",
    "            print(\"Drone has landed.\")\n",
    "        break\n",
    "\n",
    "# Land drone and stop stream\n",
    "tello.streamoff()\n",
    "cv2.destroyAllWindows()\n"
   ]
  }
 ],
 "metadata": {
  "kernelspec": {
   "display_name": "Python 3",
   "language": "python",
   "name": "python3"
  },
  "language_info": {
   "codemirror_mode": {
    "name": "ipython",
    "version": 3
   },
   "file_extension": ".py",
   "mimetype": "text/x-python",
   "name": "python",
   "nbconvert_exporter": "python",
   "pygments_lexer": "ipython3",
   "version": "3.9.6"
  }
 },
 "nbformat": 4,
 "nbformat_minor": 5
}
