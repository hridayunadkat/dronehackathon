{
 "cells": [
  {
   "cell_type": "code",
   "execution_count": null,
   "metadata": {},
   "outputs": [
    {
     "name": "stderr",
     "output_type": "stream",
     "text": [
      "[INFO] tello.py - 129 - Tello instance was initialized. Host: '192.168.10.1'. Port: '8889'.\n",
      "[INFO] tello.py - 438 - Send command: 'command'\n",
      "[INFO] tello.py - 462 - Response command: 'ok'\n",
      "[INFO] tello.py - 438 - Send command: 'streamon'\n"
     ]
    },
    {
     "name": "stdout",
     "output_type": "stream",
     "text": [
      "Connecting to Tello...\n",
      "Battery level: 71%\n"
     ]
    },
    {
     "name": "stderr",
     "output_type": "stream",
     "text": [
      "[INFO] tello.py - 462 - Response streamon: 'ok'\n"
     ]
    },
    {
     "name": "stdout",
     "output_type": "stream",
     "text": [
      "Press 't' to takeoff, 'q' to land and quit.\n"
     ]
    },
    {
     "name": "stderr",
     "output_type": "stream",
     "text": [
      "2025-04-19 19:17:14.567 Python[19857:4217535] WARNING: Secure coding is automatically enabled for restorable state! However, not on all supported macOS versions of this application. Opt-in to secure coding explicitly by implementing NSApplicationDelegate.applicationSupportsSecureRestorableState:.\n"
     ]
    },
    {
     "name": "stdout",
     "output_type": "stream",
     "text": [
      "Area ratio: 0.113, Area error: -0.137\n",
      "Area ratio: 0.109, Area error: -0.141\n",
      "Area ratio: 0.109, Area error: -0.141\n",
      "Area ratio: 0.107, Area error: -0.143\n",
      "Area ratio: 0.108, Area error: -0.142\n",
      "Area ratio: 0.108, Area error: -0.142\n",
      "Area ratio: 0.109, Area error: -0.141\n",
      "Area ratio: 0.109, Area error: -0.141\n",
      "Area ratio: 0.105, Area error: -0.145\n",
      "Area ratio: 0.106, Area error: -0.144\n",
      "Area ratio: 0.107, Area error: -0.143\n",
      "Area ratio: 0.106, Area error: -0.144\n",
      "Area ratio: 0.105, Area error: -0.145\n",
      "Area ratio: 0.105, Area error: -0.145\n",
      "Area ratio: 0.105, Area error: -0.145\n",
      "Area ratio: 0.105, Area error: -0.145\n",
      "Area ratio: 0.105, Area error: -0.145\n",
      "Area ratio: 0.104, Area error: -0.146\n",
      "Area ratio: 0.104, Area error: -0.146\n",
      "Area ratio: 0.104, Area error: -0.146\n",
      "Area ratio: 0.104, Area error: -0.146\n",
      "Area ratio: 0.104, Area error: -0.146\n",
      "Area ratio: 0.104, Area error: -0.146\n",
      "Area ratio: 0.103, Area error: -0.147\n",
      "Area ratio: 0.102, Area error: -0.148\n",
      "Area ratio: 0.110, Area error: -0.140\n",
      "Area ratio: 0.110, Area error: -0.140\n",
      "Area ratio: 0.110, Area error: -0.140\n",
      "Area ratio: 0.108, Area error: -0.142\n",
      "Area ratio: 0.108, Area error: -0.142\n",
      "Area ratio: 0.110, Area error: -0.140\n",
      "Area ratio: 0.108, Area error: -0.142\n",
      "Area ratio: 0.108, Area error: -0.142\n",
      "Area ratio: 0.108, Area error: -0.142\n",
      "Area ratio: 0.108, Area error: -0.142\n",
      "Area ratio: 0.102, Area error: -0.148\n",
      "Area ratio: 0.101, Area error: -0.149\n",
      "Area ratio: 0.100, Area error: -0.150\n",
      "Area ratio: 0.106, Area error: -0.144\n",
      "Area ratio: 0.101, Area error: -0.149\n",
      "Area ratio: 0.100, Area error: -0.150\n",
      "Area ratio: 0.098, Area error: -0.152\n",
      "Area ratio: 0.098, Area error: -0.152\n",
      "Area ratio: 0.097, Area error: -0.153\n",
      "Area ratio: 0.097, Area error: -0.153\n",
      "Area ratio: 0.097, Area error: -0.153\n",
      "Area ratio: 0.099, Area error: -0.151\n",
      "Area ratio: 0.098, Area error: -0.152\n",
      "Area ratio: 0.093, Area error: -0.157\n",
      "Area ratio: 0.096, Area error: -0.154\n",
      "Area ratio: 0.097, Area error: -0.153\n",
      "Area ratio: 0.097, Area error: -0.153\n",
      "Area ratio: 0.097, Area error: -0.153\n",
      "Area ratio: 0.097, Area error: -0.153\n",
      "Area ratio: 0.097, Area error: -0.153\n",
      "Area ratio: 0.097, Area error: -0.153\n",
      "Area ratio: 0.097, Area error: -0.153\n",
      "Area ratio: 0.096, Area error: -0.154\n",
      "Area ratio: 0.096, Area error: -0.154\n",
      "Area ratio: 0.096, Area error: -0.154\n",
      "Area ratio: 0.096, Area error: -0.154\n",
      "Area ratio: 0.096, Area error: -0.154\n",
      "Area ratio: 0.098, Area error: -0.152\n",
      "Area ratio: 0.097, Area error: -0.153\n",
      "Area ratio: 0.097, Area error: -0.153\n",
      "Area ratio: 0.100, Area error: -0.150\n",
      "Area ratio: 0.113, Area error: -0.137\n",
      "Area ratio: 0.113, Area error: -0.137\n",
      "Area ratio: 0.100, Area error: -0.150\n",
      "Area ratio: 0.100, Area error: -0.150\n",
      "Area ratio: 0.100, Area error: -0.150\n",
      "Area ratio: 0.101, Area error: -0.149\n",
      "Area ratio: 0.102, Area error: -0.148\n",
      "Area ratio: 0.102, Area error: -0.148\n",
      "Area ratio: 0.102, Area error: -0.148\n",
      "Area ratio: 0.103, Area error: -0.147\n",
      "Area ratio: 0.109, Area error: -0.141\n",
      "Area ratio: 0.105, Area error: -0.145\n",
      "Area ratio: 0.108, Area error: -0.142\n",
      "Area ratio: 0.104, Area error: -0.146\n",
      "Area ratio: 0.104, Area error: -0.146\n",
      "Area ratio: 0.108, Area error: -0.142\n",
      "Area ratio: 0.107, Area error: -0.143\n",
      "Area ratio: 0.105, Area error: -0.145\n",
      "Area ratio: 0.102, Area error: -0.148\n",
      "Area ratio: 0.102, Area error: -0.148\n",
      "Area ratio: 0.101, Area error: -0.149\n",
      "Area ratio: 0.101, Area error: -0.149\n",
      "Area ratio: 0.099, Area error: -0.151\n",
      "Area ratio: 0.100, Area error: -0.150\n",
      "Area ratio: 0.102, Area error: -0.148\n",
      "Area ratio: 0.101, Area error: -0.149\n",
      "Area ratio: 0.102, Area error: -0.148\n",
      "Area ratio: 0.103, Area error: -0.147\n",
      "Area ratio: 0.103, Area error: -0.147\n",
      "Area ratio: 0.107, Area error: -0.143\n",
      "Area ratio: 0.108, Area error: -0.142\n",
      "Area ratio: 0.105, Area error: -0.145\n",
      "Area ratio: 0.106, Area error: -0.144\n",
      "Area ratio: 0.102, Area error: -0.148\n",
      "Area ratio: 0.101, Area error: -0.149\n",
      "Area ratio: 0.102, Area error: -0.148\n",
      "Area ratio: 0.101, Area error: -0.149\n",
      "Area ratio: 0.101, Area error: -0.149\n",
      "Area ratio: 0.100, Area error: -0.150\n",
      "Area ratio: 0.098, Area error: -0.152\n",
      "Area ratio: 0.097, Area error: -0.153\n",
      "Area ratio: 0.097, Area error: -0.153\n",
      "Area ratio: 0.097, Area error: -0.153\n",
      "Area ratio: 0.097, Area error: -0.153\n",
      "Area ratio: 0.097, Area error: -0.153\n",
      "Area ratio: 0.097, Area error: -0.153\n",
      "Area ratio: 0.097, Area error: -0.153\n",
      "Area ratio: 0.102, Area error: -0.148\n",
      "Area ratio: 0.115, Area error: -0.135\n",
      "Area ratio: 0.098, Area error: -0.152\n",
      "Area ratio: 0.097, Area error: -0.153\n",
      "Area ratio: 0.096, Area error: -0.154\n",
      "Area ratio: 0.097, Area error: -0.153\n",
      "Area ratio: 0.097, Area error: -0.153\n",
      "Area ratio: 0.098, Area error: -0.152\n",
      "Area ratio: 0.097, Area error: -0.153\n",
      "Area ratio: 0.100, Area error: -0.150\n",
      "Area ratio: 0.099, Area error: -0.151\n",
      "Area ratio: 0.113, Area error: -0.137\n",
      "Area ratio: 0.100, Area error: -0.150\n",
      "Area ratio: 0.101, Area error: -0.149\n",
      "Area ratio: 0.100, Area error: -0.150\n",
      "Area ratio: 0.101, Area error: -0.149\n",
      "Area ratio: 0.098, Area error: -0.152\n",
      "Area ratio: 0.101, Area error: -0.149\n",
      "Area ratio: 0.104, Area error: -0.146\n",
      "Area ratio: 0.100, Area error: -0.150\n",
      "Area ratio: 0.103, Area error: -0.147\n",
      "Area ratio: 0.113, Area error: -0.137\n",
      "Area ratio: 0.106, Area error: -0.144\n",
      "Area ratio: 0.114, Area error: -0.136\n",
      "Area ratio: 0.105, Area error: -0.145\n",
      "Area ratio: 0.104, Area error: -0.146\n",
      "Area ratio: 0.104, Area error: -0.146\n",
      "Area ratio: 0.104, Area error: -0.146\n",
      "Area ratio: 0.107, Area error: -0.143\n",
      "Area ratio: 0.107, Area error: -0.143\n",
      "Area ratio: 0.105, Area error: -0.145\n",
      "Area ratio: 0.103, Area error: -0.147\n",
      "Area ratio: 0.103, Area error: -0.147\n",
      "Area ratio: 0.104, Area error: -0.146\n",
      "Area ratio: 0.103, Area error: -0.147\n",
      "Area ratio: 0.104, Area error: -0.146\n",
      "Area ratio: 0.105, Area error: -0.145\n",
      "Area ratio: 0.104, Area error: -0.146\n",
      "Area ratio: 0.105, Area error: -0.145\n",
      "Area ratio: 0.104, Area error: -0.146\n",
      "Area ratio: 0.105, Area error: -0.145\n",
      "Area ratio: 0.106, Area error: -0.144\n",
      "Area ratio: 0.107, Area error: -0.143\n",
      "Area ratio: 0.107, Area error: -0.143\n",
      "Area ratio: 0.107, Area error: -0.143\n",
      "Area ratio: 0.107, Area error: -0.143\n",
      "Area ratio: 0.107, Area error: -0.143\n",
      "Area ratio: 0.107, Area error: -0.143\n",
      "Area ratio: 0.107, Area error: -0.143\n",
      "Area ratio: 0.104, Area error: -0.146\n",
      "Area ratio: 0.097, Area error: -0.153\n",
      "Area ratio: 0.101, Area error: -0.149\n",
      "Area ratio: 0.108, Area error: -0.142\n",
      "Area ratio: 0.101, Area error: -0.149\n",
      "Area ratio: 0.112, Area error: -0.138\n",
      "Area ratio: 0.109, Area error: -0.141\n",
      "Area ratio: 0.117, Area error: -0.133\n",
      "Area ratio: 0.118, Area error: -0.132\n",
      "Area ratio: 0.112, Area error: -0.138\n",
      "Area ratio: 0.119, Area error: -0.131\n",
      "Area ratio: 0.113, Area error: -0.137\n",
      "Area ratio: 0.111, Area error: -0.139\n",
      "Area ratio: 0.111, Area error: -0.139\n",
      "Area ratio: 0.111, Area error: -0.139\n",
      "Area ratio: 0.096, Area error: -0.154\n",
      "Area ratio: 0.096, Area error: -0.154\n",
      "Area ratio: 0.094, Area error: -0.156\n",
      "Area ratio: 0.094, Area error: -0.156\n",
      "Area ratio: 0.095, Area error: -0.155\n",
      "Area ratio: 0.097, Area error: -0.153\n",
      "Area ratio: 0.099, Area error: -0.151\n",
      "Area ratio: 0.099, Area error: -0.151\n",
      "Area ratio: 0.098, Area error: -0.152\n",
      "Area ratio: 0.099, Area error: -0.151\n",
      "Area ratio: 0.101, Area error: -0.149\n",
      "Area ratio: 0.109, Area error: -0.141\n",
      "Area ratio: 0.111, Area error: -0.139\n",
      "Area ratio: 0.108, Area error: -0.142\n",
      "Area ratio: 0.111, Area error: -0.139\n",
      "Area ratio: 0.108, Area error: -0.142\n",
      "Area ratio: 0.110, Area error: -0.140\n",
      "Area ratio: 0.110, Area error: -0.140\n",
      "Area ratio: 0.110, Area error: -0.140\n",
      "Area ratio: 0.102, Area error: -0.148\n",
      "Area ratio: 0.102, Area error: -0.148\n",
      "Area ratio: 0.112, Area error: -0.138\n",
      "Area ratio: 0.100, Area error: -0.150\n",
      "Area ratio: 0.100, Area error: -0.150\n",
      "Area ratio: 0.100, Area error: -0.150\n",
      "Area ratio: 0.100, Area error: -0.150\n",
      "Area ratio: 0.100, Area error: -0.150\n",
      "Area ratio: 0.100, Area error: -0.150\n",
      "Area ratio: 0.100, Area error: -0.150\n",
      "Area ratio: 0.097, Area error: -0.153\n",
      "Area ratio: 0.097, Area error: -0.153\n",
      "Area ratio: 0.098, Area error: -0.152\n",
      "Area ratio: 0.098, Area error: -0.152\n",
      "Area ratio: 0.099, Area error: -0.151\n",
      "Area ratio: 0.112, Area error: -0.138\n",
      "Area ratio: 0.110, Area error: -0.140\n",
      "Area ratio: 0.110, Area error: -0.140\n",
      "Area ratio: 0.113, Area error: -0.137\n",
      "Area ratio: 0.117, Area error: -0.133\n",
      "Area ratio: 0.117, Area error: -0.133\n",
      "Area ratio: 0.116, Area error: -0.134\n",
      "Area ratio: 0.116, Area error: -0.134\n",
      "Area ratio: 0.112, Area error: -0.138\n",
      "Area ratio: 0.100, Area error: -0.150\n",
      "Area ratio: 0.098, Area error: -0.152\n",
      "Area ratio: 0.104, Area error: -0.146\n",
      "Area ratio: 0.101, Area error: -0.149\n",
      "Area ratio: 0.112, Area error: -0.138\n",
      "Area ratio: 0.111, Area error: -0.139\n",
      "Area ratio: 0.112, Area error: -0.138\n",
      "Area ratio: 0.110, Area error: -0.140\n",
      "Area ratio: 0.101, Area error: -0.149\n",
      "Area ratio: 0.102, Area error: -0.148\n",
      "Area ratio: 0.104, Area error: -0.146\n",
      "Area ratio: 0.106, Area error: -0.144\n",
      "Area ratio: 0.106, Area error: -0.144\n",
      "Area ratio: 0.106, Area error: -0.144\n",
      "Area ratio: 0.107, Area error: -0.143\n"
     ]
    },
    {
     "name": "stderr",
     "output_type": "stream",
     "text": [
      "[INFO] tello.py - 438 - Send command: 'takeoff'\n"
     ]
    },
    {
     "name": "stdout",
     "output_type": "stream",
     "text": [
      "Area ratio: 0.113, Area error: -0.137\n"
     ]
    },
    {
     "name": "stderr",
     "output_type": "stream",
     "text": [
      "[INFO] tello.py - 462 - Response takeoff: 'ok'\n",
      "[INFO] tello.py - 438 - Send command: 'up 30'\n"
     ]
    },
    {
     "name": "stdout",
     "output_type": "stream",
     "text": [
      "Drone is now airborne.\n"
     ]
    },
    {
     "name": "stderr",
     "output_type": "stream",
     "text": [
      "[INFO] tello.py - 462 - Response up 30: 'ok'\n",
      "[INFO] tello.py - 438 - Send command: 'back 30'\n"
     ]
    },
    {
     "name": "stdout",
     "output_type": "stream",
     "text": [
      "Area ratio: 0.356, Area error: 0.106\n",
      "Moving back 30 cm\n"
     ]
    },
    {
     "name": "stderr",
     "output_type": "stream",
     "text": [
      "[INFO] tello.py - 462 - Response back 30: 'ok'\n"
     ]
    },
    {
     "name": "stdout",
     "output_type": "stream",
     "text": [
      "offset from center lr 8.5\n",
      "Area ratio: 0.329, Area error: 0.079\n",
      "Area ratio: 0.329, Area error: 0.079\n",
      "Area ratio: 0.329, Area error: 0.079\n",
      "Area ratio: 0.328, Area error: 0.078\n",
      "Area ratio: 0.328, Area error: 0.078\n",
      "Area ratio: 0.330, Area error: 0.080\n",
      "Area ratio: 0.330, Area error: 0.080\n",
      "Area ratio: 0.334, Area error: 0.084\n",
      "Area ratio: 0.360, Area error: 0.110\n",
      "Area ratio: 0.341, Area error: 0.091\n",
      "Area ratio: 0.340, Area error: 0.090\n",
      "Area ratio: 0.343, Area error: 0.093\n",
      "Area ratio: 0.340, Area error: 0.090\n",
      "Area ratio: 0.338, Area error: 0.088\n"
     ]
    },
    {
     "name": "stderr",
     "output_type": "stream",
     "text": [
      "[INFO] tello.py - 438 - Send command: 'back 30'\n"
     ]
    },
    {
     "name": "stdout",
     "output_type": "stream",
     "text": [
      "Area ratio: 0.347, Area error: 0.097\n",
      "Area ratio: 0.337, Area error: 0.087\n",
      "Area ratio: 0.336, Area error: 0.086\n",
      "Area ratio: 0.331, Area error: 0.081\n",
      "Area ratio: 0.332, Area error: 0.082\n",
      "Area ratio: 0.332, Area error: 0.082\n",
      "Moving back 30 cm\n"
     ]
    },
    {
     "name": "stderr",
     "output_type": "stream",
     "text": [
      "[INFO] tello.py - 462 - Response back 30: 'ok'\n"
     ]
    },
    {
     "name": "stdout",
     "output_type": "stream",
     "text": [
      "offset from center lr 9.0\n",
      "Area ratio: 0.276, Area error: 0.026\n",
      "Area ratio: 0.280, Area error: 0.030\n",
      "Area ratio: 0.277, Area error: 0.027\n",
      "Area ratio: 0.260, Area error: 0.010\n",
      "Area ratio: 0.260, Area error: 0.010\n",
      "Area ratio: 0.260, Area error: 0.010\n",
      "Area ratio: 0.275, Area error: 0.025\n",
      "Area ratio: 0.271, Area error: 0.021\n",
      "Area ratio: 0.272, Area error: 0.022\n",
      "Area ratio: 0.272, Area error: 0.022\n",
      "Area ratio: 0.272, Area error: 0.022\n",
      "Area ratio: 0.272, Area error: 0.022\n",
      "Area ratio: 0.272, Area error: 0.022\n",
      "Area ratio: 0.272, Area error: 0.022\n",
      "Area ratio: 0.272, Area error: 0.022\n",
      "Area ratio: 0.272, Area error: 0.022\n",
      "Area ratio: 0.272, Area error: 0.022\n",
      "Area ratio: 0.272, Area error: 0.022\n",
      "Area ratio: 0.272, Area error: 0.022\n",
      "Area ratio: 0.272, Area error: 0.022\n",
      "Area ratio: 0.272, Area error: 0.022\n",
      "offset from center lr 26.0\n",
      "Within tolerance. Hovering.\n",
      "Area ratio: 0.272, Area error: 0.022\n",
      "Area ratio: 0.271, Area error: 0.021\n",
      "Area ratio: 0.271, Area error: 0.021\n",
      "Area ratio: 0.271, Area error: 0.021\n",
      "Area ratio: 0.273, Area error: 0.023\n",
      "Area ratio: 0.273, Area error: 0.023\n",
      "Area ratio: 0.277, Area error: 0.027\n",
      "Area ratio: 0.275, Area error: 0.025\n",
      "Area ratio: 0.275, Area error: 0.025\n",
      "Area ratio: 0.274, Area error: 0.024\n",
      "Area ratio: 0.275, Area error: 0.025\n",
      "Area ratio: 0.282, Area error: 0.032\n",
      "Area ratio: 0.282, Area error: 0.032\n",
      "Area ratio: 0.279, Area error: 0.029\n",
      "Area ratio: 0.280, Area error: 0.030\n",
      "Area ratio: 0.281, Area error: 0.031\n",
      "Area ratio: 0.283, Area error: 0.033\n",
      "Area ratio: 0.282, Area error: 0.032\n",
      "Area ratio: 0.284, Area error: 0.034\n",
      "Area ratio: 0.285, Area error: 0.035\n",
      "Area ratio: 0.285, Area error: 0.035\n",
      "offset from center lr 30.0\n",
      "Within tolerance. Hovering.\n",
      "Area ratio: 0.282, Area error: 0.032\n",
      "Area ratio: 0.280, Area error: 0.030\n",
      "Area ratio: 0.280, Area error: 0.030\n",
      "Area ratio: 0.280, Area error: 0.030\n",
      "Area ratio: 0.281, Area error: 0.031\n",
      "Area ratio: 0.281, Area error: 0.031\n",
      "Area ratio: 0.282, Area error: 0.032\n",
      "Area ratio: 0.280, Area error: 0.030\n",
      "Area ratio: 0.281, Area error: 0.031\n",
      "Area ratio: 0.283, Area error: 0.033\n",
      "Area ratio: 0.281, Area error: 0.031\n",
      "Area ratio: 0.282, Area error: 0.032\n",
      "Area ratio: 0.281, Area error: 0.031\n",
      "Area ratio: 0.283, Area error: 0.033\n",
      "Area ratio: 0.282, Area error: 0.032\n",
      "Area ratio: 0.283, Area error: 0.033\n",
      "Area ratio: 0.286, Area error: 0.036\n",
      "Area ratio: 0.285, Area error: 0.035\n",
      "Area ratio: 0.290, Area error: 0.040\n",
      "Area ratio: 0.272, Area error: 0.022\n",
      "Area ratio: 0.272, Area error: 0.022\n",
      "offset from center lr 26.5\n",
      "Within tolerance. Hovering.\n",
      "Area ratio: 0.272, Area error: 0.022\n",
      "Area ratio: 0.272, Area error: 0.022\n",
      "Area ratio: 0.339, Area error: 0.089\n",
      "Area ratio: 0.355, Area error: 0.105\n",
      "Area ratio: 0.321, Area error: 0.071\n",
      "Area ratio: 0.321, Area error: 0.071\n",
      "Area ratio: 0.321, Area error: 0.071\n",
      "Area ratio: 0.334, Area error: 0.084\n",
      "Area ratio: 0.334, Area error: 0.084\n",
      "Area ratio: 0.346, Area error: 0.096\n",
      "Area ratio: 0.396, Area error: 0.146\n",
      "Area ratio: 0.387, Area error: 0.137\n",
      "Area ratio: 0.386, Area error: 0.136\n",
      "Area ratio: 0.375, Area error: 0.125\n",
      "Area ratio: 0.361, Area error: 0.111\n",
      "Area ratio: 0.361, Area error: 0.111\n",
      "Area ratio: 0.288, Area error: 0.038\n",
      "Area ratio: 0.280, Area error: 0.030\n"
     ]
    },
    {
     "name": "stderr",
     "output_type": "stream",
     "text": [
      "[INFO] tello.py - 438 - Send command: 'left 30'\n"
     ]
    },
    {
     "name": "stdout",
     "output_type": "stream",
     "text": [
      "Area ratio: 0.267, Area error: 0.017\n",
      "Area ratio: 0.248, Area error: -0.002\n",
      "Area ratio: 0.283, Area error: 0.033\n",
      "offset from center lr 178.0\n",
      "Moving left 30 cm\n"
     ]
    },
    {
     "name": "stderr",
     "output_type": "stream",
     "text": [
      "[INFO] tello.py - 462 - Response left 30: 'ok'\n"
     ]
    },
    {
     "name": "stdout",
     "output_type": "stream",
     "text": [
      "Area ratio: 0.288, Area error: 0.038\n",
      "Area ratio: 0.288, Area error: 0.038\n",
      "Area ratio: 0.295, Area error: 0.045\n",
      "Area ratio: 0.294, Area error: 0.044\n",
      "Area ratio: 0.294, Area error: 0.044\n",
      "Area ratio: 0.294, Area error: 0.044\n",
      "Area ratio: 0.294, Area error: 0.044\n",
      "Area ratio: 0.294, Area error: 0.044\n",
      "Area ratio: 0.295, Area error: 0.045\n",
      "Area ratio: 0.293, Area error: 0.043\n",
      "Area ratio: 0.292, Area error: 0.042\n",
      "Area ratio: 0.296, Area error: 0.046\n",
      "Area ratio: 0.302, Area error: 0.052\n",
      "Area ratio: 0.293, Area error: 0.043\n",
      "Area ratio: 0.287, Area error: 0.037\n",
      "Area ratio: 0.289, Area error: 0.039\n",
      "Area ratio: 0.288, Area error: 0.038\n",
      "Area ratio: 0.296, Area error: 0.046\n"
     ]
    },
    {
     "name": "stderr",
     "output_type": "stream",
     "text": [
      "[INFO] tello.py - 438 - Send command: 'left 30'\n"
     ]
    },
    {
     "name": "stdout",
     "output_type": "stream",
     "text": [
      "Area ratio: 0.290, Area error: 0.040\n",
      "Area ratio: 0.296, Area error: 0.046\n",
      "Area ratio: 0.294, Area error: 0.044\n",
      "offset from center lr 75.0\n",
      "Moving left 30 cm\n"
     ]
    },
    {
     "name": "stderr",
     "output_type": "stream",
     "text": [
      "[INFO] tello.py - 462 - Response left 30: 'ok'\n"
     ]
    },
    {
     "name": "stdout",
     "output_type": "stream",
     "text": [
      "Area ratio: 0.444, Area error: 0.194\n",
      "Area ratio: 0.457, Area error: 0.207\n",
      "Area ratio: 0.457, Area error: 0.207\n",
      "Area ratio: 0.453, Area error: 0.203\n",
      "Area ratio: 0.463, Area error: 0.213\n",
      "Area ratio: 0.462, Area error: 0.212\n",
      "Area ratio: 0.460, Area error: 0.210\n",
      "Area ratio: 0.458, Area error: 0.208\n",
      "Area ratio: 0.462, Area error: 0.212\n",
      "Area ratio: 0.462, Area error: 0.212\n",
      "Area ratio: 0.459, Area error: 0.209\n",
      "Area ratio: 0.463, Area error: 0.213\n",
      "Area ratio: 0.461, Area error: 0.211\n",
      "Area ratio: 0.468, Area error: 0.218\n",
      "Area ratio: 0.466, Area error: 0.216\n",
      "Area ratio: 0.466, Area error: 0.216\n",
      "Area ratio: 0.468, Area error: 0.218\n",
      "Area ratio: 0.468, Area error: 0.218\n"
     ]
    },
    {
     "name": "stderr",
     "output_type": "stream",
     "text": [
      "[INFO] tello.py - 438 - Send command: 'back 30'\n"
     ]
    },
    {
     "name": "stdout",
     "output_type": "stream",
     "text": [
      "Area ratio: 0.467, Area error: 0.217\n",
      "Area ratio: 0.466, Area error: 0.216\n",
      "Area ratio: 0.466, Area error: 0.216\n",
      "Moving back 30 cm\n"
     ]
    },
    {
     "name": "stderr",
     "output_type": "stream",
     "text": [
      "[INFO] tello.py - 462 - Response back 30: 'ok'\n",
      "[INFO] tello.py - 438 - Send command: 'right 30'\n"
     ]
    },
    {
     "name": "stdout",
     "output_type": "stream",
     "text": [
      "offset from center lr 130.0\n",
      "Moving right 30 cm\n"
     ]
    },
    {
     "name": "stderr",
     "output_type": "stream",
     "text": [
      "[INFO] tello.py - 462 - Response right 30: 'ok'\n"
     ]
    },
    {
     "name": "stdout",
     "output_type": "stream",
     "text": [
      "Area ratio: 0.420, Area error: 0.170\n",
      "Area ratio: 0.420, Area error: 0.170\n",
      "Area ratio: 0.420, Area error: 0.170\n",
      "Area ratio: 0.417, Area error: 0.167\n",
      "Area ratio: 0.417, Area error: 0.167\n",
      "Area ratio: 0.417, Area error: 0.167\n",
      "Area ratio: 0.413, Area error: 0.163\n",
      "Area ratio: 0.405, Area error: 0.155\n",
      "Area ratio: 0.408, Area error: 0.158\n",
      "Area ratio: 0.407, Area error: 0.157\n",
      "Area ratio: 0.409, Area error: 0.159\n",
      "Area ratio: 0.406, Area error: 0.156\n",
      "Area ratio: 0.409, Area error: 0.159\n",
      "Area ratio: 0.418, Area error: 0.168\n",
      "Area ratio: 0.417, Area error: 0.167\n",
      "Area ratio: 0.417, Area error: 0.167\n",
      "Area ratio: 0.427, Area error: 0.177\n"
     ]
    },
    {
     "name": "stderr",
     "output_type": "stream",
     "text": [
      "[INFO] tello.py - 438 - Send command: 'back 30'\n"
     ]
    },
    {
     "name": "stdout",
     "output_type": "stream",
     "text": [
      "Area ratio: 0.429, Area error: 0.179\n",
      "Area ratio: 0.427, Area error: 0.177\n",
      "Area ratio: 0.427, Area error: 0.177\n",
      "Moving back 30 cm\n"
     ]
    },
    {
     "name": "stderr",
     "output_type": "stream",
     "text": [
      "[INFO] tello.py - 462 - Response back 30: 'ok'\n",
      "[INFO] tello.py - 438 - Send command: 'left 30'\n"
     ]
    },
    {
     "name": "stdout",
     "output_type": "stream",
     "text": [
      "offset from center lr 39.5\n",
      "Moving left 30 cm\n"
     ]
    },
    {
     "name": "stderr",
     "output_type": "stream",
     "text": [
      "[INFO] tello.py - 462 - Response left 30: 'ok'\n"
     ]
    },
    {
     "name": "stdout",
     "output_type": "stream",
     "text": [
      "Area ratio: 0.183, Area error: -0.067\n",
      "Area ratio: 0.183, Area error: -0.067\n",
      "Area ratio: 0.178, Area error: -0.072\n",
      "Area ratio: 0.175, Area error: -0.075\n",
      "Area ratio: 0.174, Area error: -0.076\n",
      "Area ratio: 0.165, Area error: -0.085\n",
      "Area ratio: 0.165, Area error: -0.085\n",
      "Area ratio: 0.164, Area error: -0.086\n",
      "Area ratio: 0.164, Area error: -0.086\n",
      "Area ratio: 0.163, Area error: -0.087\n",
      "Area ratio: 0.163, Area error: -0.087\n",
      "Area ratio: 0.163, Area error: -0.087\n",
      "Area ratio: 0.163, Area error: -0.087\n",
      "Area ratio: 0.157, Area error: -0.093\n",
      "Area ratio: 0.157, Area error: -0.093\n",
      "Area ratio: 0.157, Area error: -0.093\n",
      "Area ratio: 0.157, Area error: -0.093\n",
      "Area ratio: 0.157, Area error: -0.093\n"
     ]
    },
    {
     "name": "stderr",
     "output_type": "stream",
     "text": [
      "[INFO] tello.py - 438 - Send command: 'forward 30'\n"
     ]
    },
    {
     "name": "stdout",
     "output_type": "stream",
     "text": [
      "Area ratio: 0.157, Area error: -0.093\n",
      "Area ratio: 0.157, Area error: -0.093\n",
      "Area ratio: 0.157, Area error: -0.093\n",
      "Moving forward 30 cm\n"
     ]
    },
    {
     "name": "stderr",
     "output_type": "stream",
     "text": [
      "[INFO] tello.py - 462 - Response forward 30: 'ok'\n",
      "[INFO] tello.py - 438 - Send command: 'right 30'\n"
     ]
    },
    {
     "name": "stdout",
     "output_type": "stream",
     "text": [
      "offset from center lr 127.0\n",
      "Moving right 30 cm\n"
     ]
    },
    {
     "name": "stderr",
     "output_type": "stream",
     "text": [
      "[INFO] tello.py - 462 - Response right 30: 'ok'\n"
     ]
    },
    {
     "name": "stdout",
     "output_type": "stream",
     "text": [
      "Area ratio: 0.214, Area error: -0.036\n",
      "Area ratio: 0.208, Area error: -0.042\n",
      "Area ratio: 0.208, Area error: -0.042\n",
      "Area ratio: 0.208, Area error: -0.042\n",
      "Area ratio: 0.208, Area error: -0.042\n",
      "Area ratio: 0.208, Area error: -0.042\n",
      "Area ratio: 0.208, Area error: -0.042\n",
      "Area ratio: 0.210, Area error: -0.040\n",
      "Area ratio: 0.210, Area error: -0.040\n",
      "Area ratio: 0.210, Area error: -0.040\n",
      "Area ratio: 0.210, Area error: -0.040\n",
      "Area ratio: 0.210, Area error: -0.040\n",
      "Area ratio: 0.210, Area error: -0.040\n",
      "Area ratio: 0.210, Area error: -0.040\n",
      "Area ratio: 0.210, Area error: -0.040\n",
      "Area ratio: 0.210, Area error: -0.040\n",
      "Area ratio: 0.210, Area error: -0.040\n",
      "Area ratio: 0.210, Area error: -0.040\n"
     ]
    },
    {
     "name": "stderr",
     "output_type": "stream",
     "text": [
      "[INFO] tello.py - 438 - Send command: 'right 30'\n"
     ]
    },
    {
     "name": "stdout",
     "output_type": "stream",
     "text": [
      "Area ratio: 0.210, Area error: -0.040\n",
      "Area ratio: 0.210, Area error: -0.040\n",
      "Area ratio: 0.210, Area error: -0.040\n",
      "offset from center lr 102.5\n",
      "Moving right 30 cm\n"
     ]
    },
    {
     "name": "stderr",
     "output_type": "stream",
     "text": [
      "[INFO] tello.py - 462 - Response right 30: 'ok'\n"
     ]
    },
    {
     "name": "stdout",
     "output_type": "stream",
     "text": [
      "Area ratio: 0.210, Area error: -0.040\n",
      "Area ratio: 0.202, Area error: -0.048\n",
      "Area ratio: 0.202, Area error: -0.048\n",
      "Area ratio: 0.204, Area error: -0.046\n",
      "Area ratio: 0.204, Area error: -0.046\n",
      "Area ratio: 0.205, Area error: -0.045\n",
      "Area ratio: 0.205, Area error: -0.045\n",
      "Area ratio: 0.201, Area error: -0.049\n",
      "Area ratio: 0.201, Area error: -0.049\n",
      "Area ratio: 0.206, Area error: -0.044\n",
      "Area ratio: 0.206, Area error: -0.044\n",
      "Area ratio: 0.207, Area error: -0.043\n",
      "Area ratio: 0.203, Area error: -0.047\n",
      "Area ratio: 0.203, Area error: -0.047\n",
      "Area ratio: 0.202, Area error: -0.048\n",
      "Area ratio: 0.202, Area error: -0.048\n",
      "Area ratio: 0.204, Area error: -0.046\n",
      "Area ratio: 0.201, Area error: -0.049\n"
     ]
    },
    {
     "name": "stderr",
     "output_type": "stream",
     "text": [
      "[INFO] tello.py - 438 - Send command: 'forward 30'\n"
     ]
    },
    {
     "name": "stdout",
     "output_type": "stream",
     "text": [
      "Area ratio: 0.201, Area error: -0.049\n",
      "Area ratio: 0.197, Area error: -0.053\n",
      "Area ratio: 0.197, Area error: -0.053\n",
      "Moving forward 30 cm\n"
     ]
    },
    {
     "name": "stderr",
     "output_type": "stream",
     "text": [
      "[INFO] tello.py - 462 - Response forward 30: 'ok'\n",
      "[INFO] tello.py - 438 - Send command: 'right 30'\n"
     ]
    },
    {
     "name": "stdout",
     "output_type": "stream",
     "text": [
      "offset from center lr 38.0\n",
      "Moving right 30 cm\n"
     ]
    },
    {
     "name": "stderr",
     "output_type": "stream",
     "text": [
      "[INFO] tello.py - 462 - Response right 30: 'ok'\n"
     ]
    },
    {
     "name": "stdout",
     "output_type": "stream",
     "text": [
      "Area ratio: 0.269, Area error: 0.019\n",
      "Area ratio: 0.273, Area error: 0.023\n",
      "Area ratio: 0.273, Area error: 0.023\n",
      "Area ratio: 0.280, Area error: 0.030\n",
      "Area ratio: 0.275, Area error: 0.025\n",
      "Area ratio: 0.273, Area error: 0.023\n",
      "Area ratio: 0.270, Area error: 0.020\n",
      "Area ratio: 0.271, Area error: 0.021\n",
      "Area ratio: 0.268, Area error: 0.018\n",
      "Area ratio: 0.273, Area error: 0.023\n",
      "Area ratio: 0.277, Area error: 0.027\n",
      "Area ratio: 0.284, Area error: 0.034\n",
      "Area ratio: 0.292, Area error: 0.042\n",
      "Area ratio: 0.297, Area error: 0.047\n",
      "Area ratio: 0.297, Area error: 0.047\n",
      "Area ratio: 0.307, Area error: 0.057\n",
      "Area ratio: 0.326, Area error: 0.076\n",
      "Area ratio: 0.344, Area error: 0.094\n"
     ]
    },
    {
     "name": "stderr",
     "output_type": "stream",
     "text": [
      "[INFO] tello.py - 438 - Send command: 'back 30'\n"
     ]
    },
    {
     "name": "stdout",
     "output_type": "stream",
     "text": [
      "Area ratio: 0.335, Area error: 0.085\n",
      "Area ratio: 0.350, Area error: 0.100\n",
      "Area ratio: 0.366, Area error: 0.116\n",
      "Moving back 30 cm\n"
     ]
    },
    {
     "name": "stderr",
     "output_type": "stream",
     "text": [
      "[INFO] tello.py - 462 - Response back 30: 'ok'\n",
      "[INFO] tello.py - 438 - Send command: 'left 30'\n"
     ]
    },
    {
     "name": "stdout",
     "output_type": "stream",
     "text": [
      "offset from center lr 88.0\n",
      "Moving left 30 cm\n"
     ]
    },
    {
     "name": "stderr",
     "output_type": "stream",
     "text": [
      "[INFO] tello.py - 462 - Response left 30: 'ok'\n"
     ]
    },
    {
     "name": "stdout",
     "output_type": "stream",
     "text": [
      "Area ratio: 0.365, Area error: 0.115\n",
      "Area ratio: 0.366, Area error: 0.116\n",
      "Area ratio: 0.363, Area error: 0.113\n",
      "Area ratio: 0.360, Area error: 0.110\n",
      "Area ratio: 0.381, Area error: 0.131\n",
      "Area ratio: 0.381, Area error: 0.131\n",
      "Area ratio: 0.381, Area error: 0.131\n",
      "Area ratio: 0.382, Area error: 0.132\n",
      "Area ratio: 0.383, Area error: 0.133\n",
      "Area ratio: 0.380, Area error: 0.130\n",
      "Area ratio: 0.376, Area error: 0.126\n",
      "Area ratio: 0.374, Area error: 0.124\n",
      "Area ratio: 0.374, Area error: 0.124\n",
      "Area ratio: 0.374, Area error: 0.124\n",
      "Area ratio: 0.376, Area error: 0.126\n",
      "Area ratio: 0.375, Area error: 0.125\n",
      "Area ratio: 0.373, Area error: 0.123\n",
      "Area ratio: 0.373, Area error: 0.123\n"
     ]
    },
    {
     "name": "stderr",
     "output_type": "stream",
     "text": [
      "[INFO] tello.py - 438 - Send command: 'back 30'\n"
     ]
    },
    {
     "name": "stdout",
     "output_type": "stream",
     "text": [
      "Area ratio: 0.374, Area error: 0.124\n",
      "Area ratio: 0.380, Area error: 0.130\n",
      "Area ratio: 0.381, Area error: 0.131\n",
      "Moving back 30 cm\n"
     ]
    },
    {
     "name": "stderr",
     "output_type": "stream",
     "text": [
      "[INFO] tello.py - 462 - Response back 30: 'ok'\n",
      "[INFO] tello.py - 438 - Send command: 'left 30'\n"
     ]
    },
    {
     "name": "stdout",
     "output_type": "stream",
     "text": [
      "offset from center lr 37.0\n",
      "Moving left 30 cm\n"
     ]
    },
    {
     "name": "stderr",
     "output_type": "stream",
     "text": [
      "[INFO] tello.py - 462 - Response left 30: 'ok'\n"
     ]
    },
    {
     "name": "stdout",
     "output_type": "stream",
     "text": [
      "Area ratio: 0.273, Area error: 0.023\n",
      "Area ratio: 0.278, Area error: 0.028\n",
      "Area ratio: 0.275, Area error: 0.025\n",
      "Area ratio: 0.271, Area error: 0.021\n",
      "Area ratio: 0.269, Area error: 0.019\n",
      "Area ratio: 0.273, Area error: 0.023\n",
      "Area ratio: 0.281, Area error: 0.031\n",
      "Area ratio: 0.280, Area error: 0.030\n",
      "Area ratio: 0.277, Area error: 0.027\n",
      "Area ratio: 0.276, Area error: 0.026\n",
      "Area ratio: 0.279, Area error: 0.029\n",
      "Area ratio: 0.284, Area error: 0.034\n",
      "Area ratio: 0.289, Area error: 0.039\n",
      "Area ratio: 0.297, Area error: 0.047\n",
      "Area ratio: 0.292, Area error: 0.042\n",
      "Area ratio: 0.298, Area error: 0.048\n",
      "Area ratio: 0.288, Area error: 0.038\n",
      "Area ratio: 0.287, Area error: 0.037\n"
     ]
    },
    {
     "name": "stderr",
     "output_type": "stream",
     "text": [
      "[INFO] tello.py - 438 - Send command: 'right 30'\n"
     ]
    },
    {
     "name": "stdout",
     "output_type": "stream",
     "text": [
      "Area ratio: 0.291, Area error: 0.041\n",
      "Area ratio: 0.290, Area error: 0.040\n",
      "Area ratio: 0.277, Area error: 0.027\n",
      "offset from center lr 75.0\n",
      "Moving right 30 cm\n"
     ]
    },
    {
     "name": "stderr",
     "output_type": "stream",
     "text": [
      "[INFO] tello.py - 462 - Response right 30: 'ok'\n"
     ]
    },
    {
     "name": "stdout",
     "output_type": "stream",
     "text": [
      "Area ratio: 0.299, Area error: 0.049\n",
      "Area ratio: 0.304, Area error: 0.054\n",
      "Area ratio: 0.304, Area error: 0.054\n",
      "Area ratio: 0.301, Area error: 0.051\n",
      "Area ratio: 0.305, Area error: 0.055\n",
      "Area ratio: 0.307, Area error: 0.057\n",
      "Area ratio: 0.307, Area error: 0.057\n",
      "Area ratio: 0.307, Area error: 0.057\n",
      "Area ratio: 0.311, Area error: 0.061\n",
      "Area ratio: 0.307, Area error: 0.057\n",
      "Area ratio: 0.306, Area error: 0.056\n",
      "Area ratio: 0.306, Area error: 0.056\n",
      "Area ratio: 0.303, Area error: 0.053\n",
      "Area ratio: 0.299, Area error: 0.049\n",
      "Area ratio: 0.299, Area error: 0.049\n",
      "Area ratio: 0.302, Area error: 0.052\n",
      "Area ratio: 0.303, Area error: 0.053\n",
      "Area ratio: 0.303, Area error: 0.053\n"
     ]
    },
    {
     "name": "stderr",
     "output_type": "stream",
     "text": [
      "[INFO] tello.py - 438 - Send command: 'back 30'\n"
     ]
    },
    {
     "name": "stdout",
     "output_type": "stream",
     "text": [
      "Area ratio: 0.302, Area error: 0.052\n",
      "Area ratio: 0.302, Area error: 0.052\n",
      "Moving back 30 cm\n"
     ]
    },
    {
     "name": "stderr",
     "output_type": "stream",
     "text": [
      "[INFO] tello.py - 462 - Response back 30: 'ok'\n",
      "[INFO] tello.py - 438 - Send command: 'left 30'\n"
     ]
    },
    {
     "name": "stdout",
     "output_type": "stream",
     "text": [
      "offset from center lr 40.0\n",
      "Moving left 30 cm\n"
     ]
    },
    {
     "name": "stderr",
     "output_type": "stream",
     "text": [
      "[INFO] tello.py - 462 - Response left 30: 'ok'\n"
     ]
    },
    {
     "name": "stdout",
     "output_type": "stream",
     "text": [
      "Area ratio: 0.225, Area error: -0.025\n",
      "Area ratio: 0.226, Area error: -0.024\n",
      "Area ratio: 0.224, Area error: -0.026\n",
      "Area ratio: 0.223, Area error: -0.027\n",
      "Area ratio: 0.223, Area error: -0.027\n",
      "Area ratio: 0.225, Area error: -0.025\n",
      "Area ratio: 0.225, Area error: -0.025\n",
      "Area ratio: 0.225, Area error: -0.025\n",
      "Area ratio: 0.225, Area error: -0.025\n",
      "Area ratio: 0.225, Area error: -0.025\n",
      "Area ratio: 0.225, Area error: -0.025\n",
      "Area ratio: 0.224, Area error: -0.026\n",
      "Area ratio: 0.224, Area error: -0.026\n",
      "Area ratio: 0.224, Area error: -0.026\n",
      "Area ratio: 0.224, Area error: -0.026\n",
      "Area ratio: 0.224, Area error: -0.026\n"
     ]
    },
    {
     "name": "stderr",
     "output_type": "stream",
     "text": [
      "[INFO] tello.py - 438 - Send command: 'right 30'\n"
     ]
    },
    {
     "name": "stdout",
     "output_type": "stream",
     "text": [
      "Area ratio: 0.224, Area error: -0.026\n",
      "Area ratio: 0.224, Area error: -0.026\n",
      "Area ratio: 0.225, Area error: -0.025\n",
      "Area ratio: 0.227, Area error: -0.023\n",
      "offset from center lr 67.5\n",
      "Moving right 30 cm\n"
     ]
    },
    {
     "name": "stderr",
     "output_type": "stream",
     "text": [
      "[INFO] tello.py - 462 - Response right 30: 'ok'\n"
     ]
    },
    {
     "name": "stdout",
     "output_type": "stream",
     "text": [
      "Area ratio: 0.239, Area error: -0.011\n",
      "Area ratio: 0.239, Area error: -0.011\n",
      "Area ratio: 0.238, Area error: -0.012\n",
      "Area ratio: 0.238, Area error: -0.012\n",
      "Area ratio: 0.240, Area error: -0.010\n",
      "Area ratio: 0.239, Area error: -0.011\n",
      "Area ratio: 0.238, Area error: -0.012\n",
      "Area ratio: 0.236, Area error: -0.014\n",
      "Area ratio: 0.235, Area error: -0.015\n",
      "Area ratio: 0.241, Area error: -0.009\n",
      "Area ratio: 0.235, Area error: -0.015\n",
      "Area ratio: 0.235, Area error: -0.015\n",
      "Area ratio: 0.239, Area error: -0.011\n",
      "Area ratio: 0.239, Area error: -0.011\n",
      "Area ratio: 0.242, Area error: -0.008\n",
      "Area ratio: 0.240, Area error: -0.010\n",
      "Area ratio: 0.239, Area error: -0.011\n",
      "Area ratio: 0.240, Area error: -0.010\n"
     ]
    },
    {
     "name": "stderr",
     "output_type": "stream",
     "text": [
      "[INFO] tello.py - 438 - Send command: 'left 30'\n"
     ]
    },
    {
     "name": "stdout",
     "output_type": "stream",
     "text": [
      "Area ratio: 0.240, Area error: -0.010\n",
      "Area ratio: 0.240, Area error: -0.010\n",
      "offset from center lr 40.5\n",
      "Moving left 30 cm\n"
     ]
    },
    {
     "name": "stderr",
     "output_type": "stream",
     "text": [
      "[INFO] tello.py - 462 - Response left 30: 'ok'\n"
     ]
    },
    {
     "name": "stdout",
     "output_type": "stream",
     "text": [
      "Area ratio: 0.231, Area error: -0.019\n",
      "Area ratio: 0.237, Area error: -0.013\n",
      "Area ratio: 0.238, Area error: -0.012\n",
      "Area ratio: 0.238, Area error: -0.012\n",
      "Area ratio: 0.243, Area error: -0.007\n",
      "Area ratio: 0.239, Area error: -0.011\n",
      "Area ratio: 0.236, Area error: -0.014\n",
      "Area ratio: 0.237, Area error: -0.013\n",
      "Area ratio: 0.237, Area error: -0.013\n",
      "Area ratio: 0.236, Area error: -0.014\n",
      "Area ratio: 0.236, Area error: -0.014\n",
      "Area ratio: 0.237, Area error: -0.013\n",
      "Area ratio: 0.237, Area error: -0.013\n",
      "Area ratio: 0.243, Area error: -0.007\n",
      "Area ratio: 0.241, Area error: -0.009\n",
      "Area ratio: 0.242, Area error: -0.008\n",
      "Area ratio: 0.240, Area error: -0.010\n",
      "Area ratio: 0.246, Area error: -0.004\n"
     ]
    },
    {
     "name": "stderr",
     "output_type": "stream",
     "text": [
      "[INFO] tello.py - 438 - Send command: 'right 30'\n"
     ]
    },
    {
     "name": "stdout",
     "output_type": "stream",
     "text": [
      "Area ratio: 0.245, Area error: -0.005\n",
      "Area ratio: 0.241, Area error: -0.009\n",
      "offset from center lr 71.0\n",
      "Moving right 30 cm\n"
     ]
    },
    {
     "name": "stderr",
     "output_type": "stream",
     "text": [
      "[INFO] tello.py - 462 - Response right 30: 'ok'\n"
     ]
    },
    {
     "name": "stdout",
     "output_type": "stream",
     "text": [
      "Area ratio: 0.248, Area error: -0.002\n",
      "Area ratio: 0.235, Area error: -0.015\n",
      "Area ratio: 0.237, Area error: -0.013\n",
      "Area ratio: 0.237, Area error: -0.013\n",
      "Area ratio: 0.242, Area error: -0.008\n",
      "Area ratio: 0.248, Area error: -0.002\n",
      "Area ratio: 0.248, Area error: -0.002\n",
      "Area ratio: 0.249, Area error: -0.001\n",
      "Area ratio: 0.248, Area error: -0.002\n",
      "Area ratio: 0.249, Area error: -0.001\n",
      "Area ratio: 0.249, Area error: -0.001\n",
      "Area ratio: 0.249, Area error: -0.001\n",
      "Area ratio: 0.250, Area error: 0.000\n",
      "Area ratio: 0.251, Area error: 0.001\n",
      "Area ratio: 0.251, Area error: 0.001\n",
      "Area ratio: 0.251, Area error: 0.001\n",
      "Area ratio: 0.248, Area error: -0.002\n",
      "Area ratio: 0.248, Area error: -0.002\n",
      "Area ratio: 0.248, Area error: -0.002\n",
      "Area ratio: 0.250, Area error: -0.000\n",
      "offset from center lr 25.5\n",
      "Within tolerance. Hovering.\n",
      "Area ratio: 0.250, Area error: 0.000\n",
      "Area ratio: 0.250, Area error: 0.000\n",
      "Area ratio: 0.249, Area error: -0.001\n",
      "Area ratio: 0.250, Area error: -0.000\n",
      "Area ratio: 0.250, Area error: 0.000\n",
      "Area ratio: 0.246, Area error: -0.004\n",
      "Area ratio: 0.246, Area error: -0.004\n",
      "Area ratio: 0.249, Area error: -0.001\n",
      "Area ratio: 0.244, Area error: -0.006\n",
      "Area ratio: 0.244, Area error: -0.006\n",
      "Area ratio: 0.248, Area error: -0.002\n",
      "Area ratio: 0.249, Area error: -0.001\n",
      "Area ratio: 0.249, Area error: -0.001\n",
      "Area ratio: 0.249, Area error: -0.001\n",
      "Area ratio: 0.249, Area error: -0.001\n",
      "Area ratio: 0.249, Area error: -0.001\n",
      "Area ratio: 0.249, Area error: -0.001\n",
      "Area ratio: 0.249, Area error: -0.001\n",
      "Area ratio: 0.249, Area error: -0.001\n",
      "Area ratio: 0.249, Area error: -0.001\n",
      "Area ratio: 0.249, Area error: -0.001\n",
      "offset from center lr 28.0\n",
      "Within tolerance. Hovering.\n",
      "Area ratio: 0.249, Area error: -0.001\n",
      "Area ratio: 0.250, Area error: -0.000\n",
      "Area ratio: 0.246, Area error: -0.004\n",
      "Area ratio: 0.245, Area error: -0.005\n",
      "Area ratio: 0.245, Area error: -0.005\n",
      "Area ratio: 0.248, Area error: -0.002\n",
      "Area ratio: 0.248, Area error: -0.002\n",
      "Area ratio: 0.248, Area error: -0.002\n",
      "Area ratio: 0.248, Area error: -0.002\n",
      "Area ratio: 0.248, Area error: -0.002\n",
      "Area ratio: 0.248, Area error: -0.002\n",
      "Area ratio: 0.244, Area error: -0.006\n",
      "Area ratio: 0.241, Area error: -0.009\n",
      "Area ratio: 0.241, Area error: -0.009\n",
      "Area ratio: 0.243, Area error: -0.007\n",
      "Area ratio: 0.243, Area error: -0.007\n",
      "Area ratio: 0.247, Area error: -0.003\n",
      "Area ratio: 0.242, Area error: -0.008\n",
      "Area ratio: 0.246, Area error: -0.004\n",
      "Area ratio: 0.246, Area error: -0.004\n",
      "Area ratio: 0.240, Area error: -0.010\n",
      "offset from center lr 24.5\n",
      "Within tolerance. Hovering.\n",
      "Area ratio: 0.241, Area error: -0.009\n",
      "Area ratio: 0.240, Area error: -0.010\n",
      "Area ratio: 0.240, Area error: -0.010\n",
      "Area ratio: 0.240, Area error: -0.010\n",
      "Area ratio: 0.244, Area error: -0.006\n",
      "Area ratio: 0.244, Area error: -0.006\n",
      "Area ratio: 0.244, Area error: -0.006\n",
      "Area ratio: 0.242, Area error: -0.008\n",
      "Area ratio: 0.243, Area error: -0.007\n",
      "Area ratio: 0.242, Area error: -0.008\n",
      "Area ratio: 0.237, Area error: -0.013\n",
      "Area ratio: 0.242, Area error: -0.008\n",
      "Area ratio: 0.242, Area error: -0.008\n",
      "Area ratio: 0.241, Area error: -0.009\n",
      "Area ratio: 0.241, Area error: -0.009\n",
      "Area ratio: 0.239, Area error: -0.011\n",
      "Area ratio: 0.239, Area error: -0.011\n",
      "Area ratio: 0.243, Area error: -0.007\n",
      "Area ratio: 0.241, Area error: -0.009\n",
      "Area ratio: 0.241, Area error: -0.009\n",
      "Area ratio: 0.241, Area error: -0.009\n",
      "offset from center lr 21.0\n",
      "Within tolerance. Hovering.\n",
      "Area ratio: 0.239, Area error: -0.011\n",
      "Area ratio: 0.238, Area error: -0.012\n",
      "Area ratio: 0.237, Area error: -0.013\n",
      "Area ratio: 0.237, Area error: -0.013\n",
      "Area ratio: 0.237, Area error: -0.013\n",
      "Area ratio: 0.236, Area error: -0.014\n",
      "Area ratio: 0.236, Area error: -0.014\n",
      "Area ratio: 0.235, Area error: -0.015\n",
      "Area ratio: 0.235, Area error: -0.015\n",
      "Area ratio: 0.235, Area error: -0.015\n",
      "Area ratio: 0.237, Area error: -0.013\n",
      "Area ratio: 0.237, Area error: -0.013\n",
      "Area ratio: 0.238, Area error: -0.012\n",
      "Area ratio: 0.238, Area error: -0.012\n",
      "Area ratio: 0.238, Area error: -0.012\n",
      "Area ratio: 0.238, Area error: -0.012\n",
      "Area ratio: 0.238, Area error: -0.012\n",
      "Area ratio: 0.236, Area error: -0.014\n",
      "Area ratio: 0.236, Area error: -0.014\n",
      "Area ratio: 0.236, Area error: -0.014\n",
      "Area ratio: 0.236, Area error: -0.014\n",
      "Area ratio: 0.237, Area error: -0.013\n",
      "offset from center lr 20.0\n",
      "Within tolerance. Hovering.\n",
      "Area ratio: 0.237, Area error: -0.013\n",
      "Area ratio: 0.237, Area error: -0.013\n",
      "Area ratio: 0.237, Area error: -0.013\n",
      "Area ratio: 0.238, Area error: -0.012\n",
      "Area ratio: 0.239, Area error: -0.011\n",
      "Area ratio: 0.239, Area error: -0.011\n",
      "Area ratio: 0.239, Area error: -0.011\n",
      "Area ratio: 0.239, Area error: -0.011\n",
      "Area ratio: 0.240, Area error: -0.010\n",
      "Area ratio: 0.240, Area error: -0.010\n",
      "Area ratio: 0.240, Area error: -0.010\n",
      "Area ratio: 0.239, Area error: -0.011\n",
      "Area ratio: 0.237, Area error: -0.013\n",
      "Area ratio: 0.240, Area error: -0.010\n",
      "Area ratio: 0.241, Area error: -0.009\n",
      "Area ratio: 0.241, Area error: -0.009\n",
      "Area ratio: 0.242, Area error: -0.008\n",
      "Area ratio: 0.236, Area error: -0.014\n",
      "Area ratio: 0.237, Area error: -0.013\n",
      "Area ratio: 0.239, Area error: -0.011\n",
      "Area ratio: 0.238, Area error: -0.012\n",
      "offset from center lr 21.5\n",
      "Within tolerance. Hovering.\n",
      "Area ratio: 0.238, Area error: -0.012\n",
      "Area ratio: 0.238, Area error: -0.012\n",
      "Area ratio: 0.238, Area error: -0.012\n",
      "Area ratio: 0.237, Area error: -0.013\n",
      "Area ratio: 0.242, Area error: -0.008\n",
      "Area ratio: 0.242, Area error: -0.008\n",
      "Area ratio: 0.241, Area error: -0.009\n",
      "Area ratio: 0.241, Area error: -0.009\n",
      "Area ratio: 0.243, Area error: -0.007\n",
      "Area ratio: 0.243, Area error: -0.007\n",
      "Area ratio: 0.243, Area error: -0.007\n",
      "Area ratio: 0.242, Area error: -0.008\n",
      "Area ratio: 0.241, Area error: -0.009\n",
      "Area ratio: 0.241, Area error: -0.009\n",
      "Area ratio: 0.241, Area error: -0.009\n",
      "Area ratio: 0.241, Area error: -0.009\n",
      "Area ratio: 0.244, Area error: -0.006\n",
      "Area ratio: 0.244, Area error: -0.006\n",
      "Area ratio: 0.244, Area error: -0.006\n",
      "Area ratio: 0.240, Area error: -0.010\n",
      "Area ratio: 0.240, Area error: -0.010\n",
      "offset from center lr 12.5\n",
      "Within tolerance. Hovering.\n",
      "Area ratio: 0.240, Area error: -0.010\n",
      "Area ratio: 0.241, Area error: -0.009\n",
      "Area ratio: 0.242, Area error: -0.008\n",
      "Area ratio: 0.242, Area error: -0.008\n",
      "Area ratio: 0.244, Area error: -0.006\n",
      "Area ratio: 0.243, Area error: -0.007\n",
      "Area ratio: 0.243, Area error: -0.007\n",
      "Area ratio: 0.239, Area error: -0.011\n",
      "Area ratio: 0.240, Area error: -0.010\n",
      "Area ratio: 0.241, Area error: -0.009\n",
      "Area ratio: 0.238, Area error: -0.012\n",
      "Area ratio: 0.243, Area error: -0.007\n",
      "Area ratio: 0.244, Area error: -0.006\n",
      "Area ratio: 0.242, Area error: -0.008\n",
      "Area ratio: 0.243, Area error: -0.007\n",
      "Area ratio: 0.244, Area error: -0.006\n",
      "Area ratio: 0.244, Area error: -0.006\n",
      "Area ratio: 0.244, Area error: -0.006\n",
      "Area ratio: 0.244, Area error: -0.006\n",
      "Area ratio: 0.241, Area error: -0.009\n",
      "Area ratio: 0.239, Area error: -0.011\n",
      "offset from center lr 8.0\n",
      "Within tolerance. Hovering.\n",
      "Area ratio: 0.239, Area error: -0.011\n",
      "Area ratio: 0.239, Area error: -0.011\n",
      "Area ratio: 0.239, Area error: -0.011\n",
      "Area ratio: 0.244, Area error: -0.006\n",
      "Area ratio: 0.243, Area error: -0.007\n",
      "Area ratio: 0.243, Area error: -0.007\n",
      "Area ratio: 0.245, Area error: -0.005\n",
      "Area ratio: 0.243, Area error: -0.007\n",
      "Area ratio: 0.244, Area error: -0.006\n",
      "Area ratio: 0.243, Area error: -0.007\n",
      "Area ratio: 0.242, Area error: -0.008\n",
      "Area ratio: 0.242, Area error: -0.008\n",
      "Area ratio: 0.242, Area error: -0.008\n",
      "Area ratio: 0.243, Area error: -0.007\n",
      "Area ratio: 0.240, Area error: -0.010\n",
      "Area ratio: 0.239, Area error: -0.011\n",
      "Area ratio: 0.238, Area error: -0.012\n",
      "Area ratio: 0.239, Area error: -0.011\n",
      "Area ratio: 0.238, Area error: -0.012\n",
      "Area ratio: 0.237, Area error: -0.013\n",
      "Area ratio: 0.239, Area error: -0.011\n",
      "offset from center lr 1.5\n",
      "Within tolerance. Hovering.\n",
      "Area ratio: 0.239, Area error: -0.011\n",
      "Area ratio: 0.239, Area error: -0.011\n",
      "Area ratio: 0.239, Area error: -0.011\n",
      "Area ratio: 0.243, Area error: -0.007\n",
      "Area ratio: 0.243, Area error: -0.007\n",
      "Area ratio: 0.240, Area error: -0.010\n",
      "Area ratio: 0.240, Area error: -0.010\n",
      "Area ratio: 0.237, Area error: -0.013\n",
      "Area ratio: 0.237, Area error: -0.013\n",
      "Area ratio: 0.237, Area error: -0.013\n",
      "Area ratio: 0.237, Area error: -0.013\n",
      "Area ratio: 0.236, Area error: -0.014\n",
      "Area ratio: 0.238, Area error: -0.012\n",
      "Area ratio: 0.237, Area error: -0.013\n",
      "Area ratio: 0.239, Area error: -0.011\n",
      "Area ratio: 0.237, Area error: -0.013\n",
      "Area ratio: 0.235, Area error: -0.015\n",
      "Area ratio: 0.232, Area error: -0.018\n",
      "Area ratio: 0.235, Area error: -0.015\n",
      "Area ratio: 0.235, Area error: -0.015\n",
      "Area ratio: 0.239, Area error: -0.011\n",
      "offset from center lr 1.0\n",
      "Within tolerance. Hovering.\n",
      "Area ratio: 0.240, Area error: -0.010\n",
      "Area ratio: 0.243, Area error: -0.007\n",
      "Area ratio: 0.241, Area error: -0.009\n",
      "Area ratio: 0.238, Area error: -0.012\n",
      "Area ratio: 0.238, Area error: -0.012\n",
      "Area ratio: 0.239, Area error: -0.011\n",
      "Area ratio: 0.237, Area error: -0.013\n",
      "Area ratio: 0.237, Area error: -0.013\n",
      "Area ratio: 0.241, Area error: -0.009\n",
      "Area ratio: 0.242, Area error: -0.008\n",
      "Area ratio: 0.239, Area error: -0.011\n",
      "Area ratio: 0.239, Area error: -0.011\n",
      "Area ratio: 0.240, Area error: -0.010\n",
      "Area ratio: 0.239, Area error: -0.011\n",
      "Area ratio: 0.238, Area error: -0.012\n",
      "Area ratio: 0.238, Area error: -0.012\n",
      "Area ratio: 0.237, Area error: -0.013\n",
      "Area ratio: 0.237, Area error: -0.013\n",
      "Area ratio: 0.236, Area error: -0.014\n",
      "Area ratio: 0.237, Area error: -0.013\n",
      "Area ratio: 0.237, Area error: -0.013\n",
      "offset from center lr 3.5\n",
      "Within tolerance. Hovering.\n",
      "Area ratio: 0.237, Area error: -0.013\n",
      "Area ratio: 0.234, Area error: -0.016\n",
      "Area ratio: 0.234, Area error: -0.016\n",
      "Area ratio: 0.238, Area error: -0.012\n",
      "Area ratio: 0.235, Area error: -0.015\n",
      "Area ratio: 0.233, Area error: -0.017\n",
      "Area ratio: 0.234, Area error: -0.016\n",
      "Area ratio: 0.237, Area error: -0.013\n",
      "Area ratio: 0.237, Area error: -0.013\n",
      "Area ratio: 0.238, Area error: -0.012\n",
      "Area ratio: 0.238, Area error: -0.012\n",
      "Area ratio: 0.238, Area error: -0.012\n",
      "Area ratio: 0.239, Area error: -0.011\n",
      "Area ratio: 0.239, Area error: -0.011\n",
      "Area ratio: 0.239, Area error: -0.011\n",
      "Area ratio: 0.239, Area error: -0.011\n",
      "Area ratio: 0.237, Area error: -0.013\n",
      "Area ratio: 0.238, Area error: -0.012\n",
      "Area ratio: 0.239, Area error: -0.011\n",
      "Area ratio: 0.226, Area error: -0.024\n",
      "Area ratio: 0.237, Area error: -0.013\n",
      "offset from center lr 5.5\n",
      "Within tolerance. Hovering.\n",
      "Area ratio: 0.237, Area error: -0.013\n",
      "Area ratio: 0.221, Area error: -0.029\n",
      "Area ratio: 0.224, Area error: -0.026\n",
      "Area ratio: 0.210, Area error: -0.040\n",
      "Area ratio: 0.203, Area error: -0.047\n",
      "Area ratio: 0.191, Area error: -0.059\n",
      "Area ratio: 0.176, Area error: -0.074\n",
      "Area ratio: 0.154, Area error: -0.096\n",
      "Area ratio: 0.149, Area error: -0.101\n",
      "Area ratio: 0.152, Area error: -0.098\n",
      "Area ratio: 0.152, Area error: -0.098\n",
      "Area ratio: 0.156, Area error: -0.094\n",
      "Area ratio: 0.148, Area error: -0.102\n",
      "Area ratio: 0.150, Area error: -0.100\n",
      "Area ratio: 0.135, Area error: -0.115\n",
      "Area ratio: 0.132, Area error: -0.118\n",
      "Area ratio: 0.129, Area error: -0.121\n"
     ]
    },
    {
     "name": "stderr",
     "output_type": "stream",
     "text": [
      "[INFO] tello.py - 438 - Send command: 'forward 30'\n"
     ]
    },
    {
     "name": "stdout",
     "output_type": "stream",
     "text": [
      "Area ratio: 0.131, Area error: -0.119\n",
      "Area ratio: 0.131, Area error: -0.119\n",
      "Area ratio: 0.132, Area error: -0.118\n",
      "Area ratio: 0.133, Area error: -0.117\n",
      "Moving forward 30 cm\n"
     ]
    },
    {
     "name": "stderr",
     "output_type": "stream",
     "text": [
      "[INFO] tello.py - 462 - Response forward 30: 'ok'\n"
     ]
    },
    {
     "name": "stdout",
     "output_type": "stream",
     "text": [
      "offset from center lr 15.0\n",
      "Area ratio: 0.147, Area error: -0.103\n",
      "Area ratio: 0.146, Area error: -0.104\n",
      "Area ratio: 0.147, Area error: -0.103\n",
      "Area ratio: 0.147, Area error: -0.103\n",
      "Area ratio: 0.149, Area error: -0.101\n",
      "Area ratio: 0.149, Area error: -0.101\n",
      "Area ratio: 0.150, Area error: -0.100\n",
      "Area ratio: 0.152, Area error: -0.098\n",
      "Area ratio: 0.154, Area error: -0.096\n",
      "Area ratio: 0.154, Area error: -0.096\n",
      "Area ratio: 0.153, Area error: -0.097\n",
      "Area ratio: 0.151, Area error: -0.099\n",
      "Area ratio: 0.151, Area error: -0.099\n",
      "Area ratio: 0.151, Area error: -0.099\n",
      "Area ratio: 0.151, Area error: -0.099\n",
      "Area ratio: 0.147, Area error: -0.103\n",
      "Area ratio: 0.146, Area error: -0.104\n"
     ]
    },
    {
     "name": "stderr",
     "output_type": "stream",
     "text": [
      "[INFO] tello.py - 438 - Send command: 'forward 30'\n"
     ]
    },
    {
     "name": "stdout",
     "output_type": "stream",
     "text": [
      "Area ratio: 0.145, Area error: -0.105\n",
      "Area ratio: 0.144, Area error: -0.106\n",
      "Area ratio: 0.144, Area error: -0.106\n",
      "Area ratio: 0.142, Area error: -0.108\n",
      "Moving forward 30 cm\n"
     ]
    },
    {
     "name": "stderr",
     "output_type": "stream",
     "text": [
      "[INFO] tello.py - 462 - Response forward 30: 'ok'\n"
     ]
    },
    {
     "name": "stdout",
     "output_type": "stream",
     "text": [
      "offset from center lr 17.5\n",
      "Area ratio: 0.168, Area error: -0.082\n",
      "Area ratio: 0.168, Area error: -0.082\n",
      "Area ratio: 0.172, Area error: -0.078\n",
      "Area ratio: 0.169, Area error: -0.081\n",
      "Area ratio: 0.169, Area error: -0.081\n",
      "Area ratio: 0.169, Area error: -0.081\n",
      "Area ratio: 0.172, Area error: -0.078\n",
      "Area ratio: 0.173, Area error: -0.077\n",
      "Area ratio: 0.176, Area error: -0.074\n",
      "Area ratio: 0.182, Area error: -0.068\n",
      "Area ratio: 0.173, Area error: -0.077\n",
      "Area ratio: 0.173, Area error: -0.077\n",
      "Area ratio: 0.172, Area error: -0.078\n",
      "Area ratio: 0.172, Area error: -0.078\n",
      "Area ratio: 0.176, Area error: -0.074\n",
      "Area ratio: 0.175, Area error: -0.075\n",
      "Area ratio: 0.176, Area error: -0.074\n"
     ]
    },
    {
     "name": "stderr",
     "output_type": "stream",
     "text": [
      "[INFO] tello.py - 438 - Send command: 'forward 30'\n"
     ]
    },
    {
     "name": "stdout",
     "output_type": "stream",
     "text": [
      "Area ratio: 0.172, Area error: -0.078\n",
      "Area ratio: 0.172, Area error: -0.078\n",
      "Area ratio: 0.173, Area error: -0.077\n",
      "Area ratio: 0.173, Area error: -0.077\n",
      "Moving forward 30 cm\n"
     ]
    },
    {
     "name": "stderr",
     "output_type": "stream",
     "text": [
      "[INFO] tello.py - 462 - Response forward 30: 'ok'\n"
     ]
    },
    {
     "name": "stdout",
     "output_type": "stream",
     "text": [
      "offset from center lr 30.0\n",
      "Area ratio: 0.217, Area error: -0.033\n",
      "Area ratio: 0.217, Area error: -0.033\n",
      "Area ratio: 0.218, Area error: -0.032\n",
      "Area ratio: 0.215, Area error: -0.035\n",
      "Area ratio: 0.214, Area error: -0.036\n",
      "Area ratio: 0.218, Area error: -0.032\n",
      "Area ratio: 0.220, Area error: -0.030\n",
      "Area ratio: 0.221, Area error: -0.029\n",
      "Area ratio: 0.216, Area error: -0.034\n",
      "Area ratio: 0.219, Area error: -0.031\n",
      "Area ratio: 0.218, Area error: -0.032\n",
      "Area ratio: 0.222, Area error: -0.028\n",
      "Area ratio: 0.221, Area error: -0.029\n",
      "Area ratio: 0.224, Area error: -0.026\n",
      "Area ratio: 0.225, Area error: -0.025\n",
      "Area ratio: 0.226, Area error: -0.024\n",
      "Area ratio: 0.224, Area error: -0.026\n",
      "Area ratio: 0.226, Area error: -0.024\n",
      "Area ratio: 0.226, Area error: -0.024\n",
      "Area ratio: 0.223, Area error: -0.027\n",
      "Area ratio: 0.223, Area error: -0.027\n",
      "offset from center lr 25.0\n",
      "Within tolerance. Hovering.\n",
      "Area ratio: 0.225, Area error: -0.025\n",
      "Area ratio: 0.225, Area error: -0.025\n",
      "Area ratio: 0.227, Area error: -0.023\n",
      "Area ratio: 0.227, Area error: -0.023\n",
      "Area ratio: 0.226, Area error: -0.024\n",
      "Area ratio: 0.226, Area error: -0.024\n",
      "Area ratio: 0.226, Area error: -0.024\n",
      "Area ratio: 0.223, Area error: -0.027\n",
      "Area ratio: 0.226, Area error: -0.024\n",
      "Area ratio: 0.231, Area error: -0.019\n",
      "Area ratio: 0.231, Area error: -0.019\n",
      "Area ratio: 0.228, Area error: -0.022\n",
      "Area ratio: 0.224, Area error: -0.026\n",
      "Area ratio: 0.224, Area error: -0.026\n",
      "Area ratio: 0.214, Area error: -0.036\n",
      "Area ratio: 0.218, Area error: -0.032\n",
      "Area ratio: 0.215, Area error: -0.035\n",
      "Area ratio: 0.214, Area error: -0.036\n",
      "Area ratio: 0.216, Area error: -0.034\n",
      "Area ratio: 0.216, Area error: -0.034\n"
     ]
    },
    {
     "name": "stderr",
     "output_type": "stream",
     "text": [
      "[INFO] tello.py - 438 - Send command: 'right 30'\n"
     ]
    },
    {
     "name": "stdout",
     "output_type": "stream",
     "text": [
      "Area ratio: 0.216, Area error: -0.034\n",
      "offset from center lr 32.5\n",
      "Moving right 30 cm\n"
     ]
    },
    {
     "name": "stderr",
     "output_type": "stream",
     "text": [
      "[INFO] tello.py - 462 - Response right 30: 'ok'\n",
      "[INFO] tello.py - 438 - Send command: 'forward 30'\n"
     ]
    },
    {
     "name": "stdout",
     "output_type": "stream",
     "text": [
      "Area ratio: 0.197, Area error: -0.053\n",
      "Moving forward 30 cm\n"
     ]
    },
    {
     "name": "stderr",
     "output_type": "stream",
     "text": [
      "[INFO] tello.py - 462 - Response forward 30: 'ok'\n",
      "[INFO] tello.py - 438 - Send command: 'right 30'\n"
     ]
    },
    {
     "name": "stdout",
     "output_type": "stream",
     "text": [
      "offset from center lr 80.0\n",
      "Moving right 30 cm\n"
     ]
    },
    {
     "name": "stderr",
     "output_type": "stream",
     "text": [
      "[WARNING] tello.py - 448 - Aborting command 'right 30'. Did not receive a response after 7 seconds\n",
      "[INFO] tello.py - 438 - Send command: 'right 30'\n",
      "[INFO] tello.py - 462 - Response right 30: 'ok'\n"
     ]
    },
    {
     "name": "stdout",
     "output_type": "stream",
     "text": [
      "Area ratio: 0.282, Area error: 0.032\n",
      "Area ratio: 0.280, Area error: 0.030\n",
      "Area ratio: 0.277, Area error: 0.027\n",
      "Area ratio: 0.277, Area error: 0.027\n",
      "Area ratio: 0.278, Area error: 0.028\n",
      "Area ratio: 0.275, Area error: 0.025\n",
      "Area ratio: 0.275, Area error: 0.025\n",
      "Area ratio: 0.271, Area error: 0.021\n",
      "Area ratio: 0.271, Area error: 0.021\n",
      "Area ratio: 0.267, Area error: 0.017\n",
      "Area ratio: 0.272, Area error: 0.022\n",
      "Area ratio: 0.268, Area error: 0.018\n",
      "Area ratio: 0.265, Area error: 0.015\n",
      "Area ratio: 0.262, Area error: 0.012\n",
      "Area ratio: 0.262, Area error: 0.012\n",
      "Area ratio: 0.261, Area error: 0.011\n",
      "Area ratio: 0.264, Area error: 0.014\n",
      "Area ratio: 0.264, Area error: 0.014\n"
     ]
    },
    {
     "name": "stderr",
     "output_type": "stream",
     "text": [
      "[INFO] tello.py - 438 - Send command: 'left 30'\n"
     ]
    },
    {
     "name": "stdout",
     "output_type": "stream",
     "text": [
      "Area ratio: 0.279, Area error: 0.029\n",
      "Area ratio: 0.280, Area error: 0.030\n",
      "Area ratio: 0.278, Area error: 0.028\n",
      "offset from center lr 42.0\n",
      "Moving left 30 cm\n"
     ]
    },
    {
     "name": "stderr",
     "output_type": "stream",
     "text": [
      "[INFO] tello.py - 462 - Response left 30: 'ok'\n"
     ]
    },
    {
     "name": "stdout",
     "output_type": "stream",
     "text": [
      "Area ratio: 0.298, Area error: 0.048\n",
      "Area ratio: 0.314, Area error: 0.064\n",
      "Area ratio: 0.316, Area error: 0.066\n",
      "Area ratio: 0.324, Area error: 0.074\n",
      "Area ratio: 0.305, Area error: 0.055\n",
      "Area ratio: 0.295, Area error: 0.045\n",
      "Area ratio: 0.302, Area error: 0.052\n",
      "Area ratio: 0.277, Area error: 0.027\n",
      "Area ratio: 0.276, Area error: 0.026\n",
      "Area ratio: 0.261, Area error: 0.011\n",
      "Area ratio: 0.257, Area error: 0.007\n",
      "Area ratio: 0.256, Area error: 0.006\n",
      "Area ratio: 0.256, Area error: 0.006\n",
      "Area ratio: 0.267, Area error: 0.017\n",
      "Area ratio: 0.267, Area error: 0.017\n",
      "Area ratio: 0.267, Area error: 0.017\n",
      "Area ratio: 0.257, Area error: 0.007\n",
      "Area ratio: 0.257, Area error: 0.007\n",
      "Area ratio: 0.265, Area error: 0.015\n",
      "Area ratio: 0.264, Area error: 0.014\n",
      "Area ratio: 0.266, Area error: 0.016\n",
      "offset from center lr 21.5\n",
      "Within tolerance. Hovering.\n",
      "Area ratio: 0.267, Area error: 0.017\n",
      "Area ratio: 0.267, Area error: 0.017\n",
      "Area ratio: 0.267, Area error: 0.017\n",
      "Area ratio: 0.264, Area error: 0.014\n",
      "Area ratio: 0.264, Area error: 0.014\n",
      "Area ratio: 0.282, Area error: 0.032\n",
      "Area ratio: 0.279, Area error: 0.029\n",
      "Area ratio: 0.280, Area error: 0.030\n",
      "Area ratio: 0.278, Area error: 0.028\n",
      "Area ratio: 0.282, Area error: 0.032\n",
      "Area ratio: 0.285, Area error: 0.035\n",
      "Area ratio: 0.274, Area error: 0.024\n",
      "Area ratio: 0.262, Area error: 0.012\n",
      "Area ratio: 0.265, Area error: 0.015\n",
      "Area ratio: 0.290, Area error: 0.040\n"
     ]
    },
    {
     "name": "stderr",
     "output_type": "stream",
     "text": [
      "[INFO] tello.py - 438 - Send command: 'left 30'\n"
     ]
    },
    {
     "name": "stdout",
     "output_type": "stream",
     "text": [
      "Area ratio: 0.289, Area error: 0.039\n",
      "Area ratio: 0.290, Area error: 0.040\n",
      "Area ratio: 0.290, Area error: 0.040\n",
      "Area ratio: 0.283, Area error: 0.033\n",
      "Area ratio: 0.278, Area error: 0.028\n",
      "Area ratio: 0.286, Area error: 0.036\n",
      "offset from center lr 64.5\n",
      "Moving left 30 cm\n"
     ]
    },
    {
     "name": "stderr",
     "output_type": "stream",
     "text": [
      "[INFO] tello.py - 462 - Response left 30: 'ok'\n"
     ]
    },
    {
     "name": "stdout",
     "output_type": "stream",
     "text": [
      "Area ratio: 0.290, Area error: 0.040\n",
      "Area ratio: 0.290, Area error: 0.040\n",
      "Area ratio: 0.284, Area error: 0.034\n",
      "Area ratio: 0.284, Area error: 0.034\n",
      "Area ratio: 0.284, Area error: 0.034\n",
      "Area ratio: 0.284, Area error: 0.034\n",
      "Area ratio: 0.284, Area error: 0.034\n",
      "Area ratio: 0.284, Area error: 0.034\n",
      "Area ratio: 0.284, Area error: 0.034\n",
      "Area ratio: 0.284, Area error: 0.034\n",
      "Area ratio: 0.284, Area error: 0.034\n",
      "Area ratio: 0.284, Area error: 0.034\n",
      "Area ratio: 0.284, Area error: 0.034\n",
      "Area ratio: 0.284, Area error: 0.034\n",
      "Area ratio: 0.284, Area error: 0.034\n",
      "Area ratio: 0.284, Area error: 0.034\n",
      "Area ratio: 0.297, Area error: 0.047\n",
      "Area ratio: 0.297, Area error: 0.047\n"
     ]
    },
    {
     "name": "stderr",
     "output_type": "stream",
     "text": [
      "[INFO] tello.py - 438 - Send command: 'left 30'\n"
     ]
    },
    {
     "name": "stdout",
     "output_type": "stream",
     "text": [
      "Area ratio: 0.297, Area error: 0.047\n",
      "Area ratio: 0.297, Area error: 0.047\n",
      "Area ratio: 0.297, Area error: 0.047\n",
      "offset from center lr 72.5\n",
      "Moving left 30 cm\n"
     ]
    },
    {
     "name": "stderr",
     "output_type": "stream",
     "text": [
      "[INFO] tello.py - 462 - Response left 30: 'ok'\n"
     ]
    },
    {
     "name": "stdout",
     "output_type": "stream",
     "text": [
      "Area ratio: 0.284, Area error: 0.034\n",
      "Area ratio: 0.284, Area error: 0.034\n",
      "Area ratio: 0.284, Area error: 0.034\n",
      "Area ratio: 0.284, Area error: 0.034\n",
      "Area ratio: 0.284, Area error: 0.034\n",
      "Area ratio: 0.284, Area error: 0.034\n",
      "Area ratio: 0.284, Area error: 0.034\n",
      "Area ratio: 0.284, Area error: 0.034\n",
      "Area ratio: 0.284, Area error: 0.034\n",
      "Area ratio: 0.284, Area error: 0.034\n",
      "Area ratio: 0.284, Area error: 0.034\n",
      "Area ratio: 0.284, Area error: 0.034\n",
      "Area ratio: 0.284, Area error: 0.034\n",
      "Area ratio: 0.284, Area error: 0.034\n",
      "Area ratio: 0.284, Area error: 0.034\n",
      "Area ratio: 0.284, Area error: 0.034\n",
      "Area ratio: 0.284, Area error: 0.034\n"
     ]
    },
    {
     "name": "stderr",
     "output_type": "stream",
     "text": [
      "[INFO] tello.py - 438 - Send command: 'left 30'\n"
     ]
    },
    {
     "name": "stdout",
     "output_type": "stream",
     "text": [
      "Area ratio: 0.284, Area error: 0.034\n",
      "Area ratio: 0.284, Area error: 0.034\n",
      "Area ratio: 0.284, Area error: 0.034\n",
      "offset from center lr 87.5\n",
      "Moving left 30 cm\n"
     ]
    },
    {
     "name": "stderr",
     "output_type": "stream",
     "text": [
      "[INFO] tello.py - 462 - Response left 30: 'ok'\n",
      "[INFO] tello.py - 438 - Send command: 'back 50'\n",
      "[INFO] tello.py - 462 - Response back 50: 'ok'\n",
      "[INFO] tello.py - 438 - Send command: 'right 30'\n"
     ]
    },
    {
     "name": "stdout",
     "output_type": "stream",
     "text": [
      "Area ratio: 0.288, Area error: 0.038\n",
      "offset from center lr 202.5\n",
      "Moving right 30 cm\n"
     ]
    },
    {
     "name": "stderr",
     "output_type": "stream",
     "text": [
      "[INFO] tello.py - 462 - Response right 30: 'ok'\n",
      "[INFO] tello.py - 438 - Send command: 'land'\n"
     ]
    },
    {
     "name": "stdout",
     "output_type": "stream",
     "text": [
      "Area ratio: 0.308, Area error: 0.058\n"
     ]
    },
    {
     "name": "stderr",
     "output_type": "stream",
     "text": [
      "[INFO] tello.py - 462 - Response land: 'ok'\n",
      "[INFO] tello.py - 438 - Send command: 'streamoff'\n",
      "[INFO] tello.py - 462 - Response streamoff: 'ok'\n"
     ]
    },
    {
     "name": "stdout",
     "output_type": "stream",
     "text": [
      "Drone has landed.\n"
     ]
    }
   ],
   "source": [
    "from djitellopy import Tello\n",
    "import cv2\n",
    "import numpy as np\n",
    "import time\n",
    "\n",
    "def detection_center(det):\n",
    "    \"\"\"Center x, y normalized to [-0.5, 0.5]\"\"\"\n",
    "    cx = (det[3] + det[5]) / 2.0 - 0.5\n",
    "    cy = (det[4] + det[6]) / 2.0 - 0.5\n",
    "    return (cx, cy)\n",
    "\n",
    "def norm(vec):\n",
    "    return np.sqrt(vec[0]**2 + vec[1]**2)\n",
    "\n",
    "def closest_detection(detections):\n",
    "    best_det = None\n",
    "    min_dist = float('inf')\n",
    "    for det in detections[0, 0]:\n",
    "        if det[2] > 0.4 and int(det[1]) == 1:  # 'person'\n",
    "            center = detection_center(det)\n",
    "            distance = norm(center)\n",
    "            if distance < min_dist:\n",
    "                min_dist = distance\n",
    "                best_det = det\n",
    "    return best_det\n",
    "\n",
    "# Load COCO class names\n",
    "with open('COCO/object_detection_classes_coco.txt', 'r') as f:\n",
    "    class_names = f.read().split('\\n')\n",
    "\n",
    "COLORS = np.random.uniform(0, 255, size=(len(class_names), 3))\n",
    "\n",
    "model = cv2.dnn.readNet(model='COCO/frozen_inference_graph.pb',\n",
    "                        config='COCO/ssd_mobilenet_v2_coco_2018_03_29.pbtxt.txt',\n",
    "                        framework='TensorFlow')\n",
    "\n",
    "tello = Tello()\n",
    "print(\"Connecting to Tello...\")\n",
    "tello.connect()\n",
    "print(f\"Battery level: {tello.get_battery()}%\")\n",
    "tello.streamon()\n",
    "\n",
    "print(\"Press 't' to takeoff, 'q' to land and quit.\")\n",
    "drone_in_air = False\n",
    "\n",
    "# Control parameters\n",
    "area_target = 0.25\n",
    "area_tolerance = 0.05\n",
    "move_step_cm = 30\n",
    "pixel_threshold = 40  # pixels for left/right decision\n",
    "\n",
    "last_move_time = time.time()\n",
    "move_interval = 0.8  # seconds between moves\n",
    "\n",
    "try:\n",
    "    while True:\n",
    "        frame = tello.get_frame_read().frame\n",
    "        frame = cv2.resize(frame, (720, 480))\n",
    "        h, w, _ = frame.shape\n",
    "\n",
    "        # Object detection\n",
    "        blob = cv2.dnn.blobFromImage(frame, size=(300, 300), mean=(104, 117, 123), swapRB=True)\n",
    "        model.setInput(blob)\n",
    "        detections = model.forward()\n",
    "        det = closest_detection(detections)\n",
    "\n",
    "        if det is not None:\n",
    "            class_id = int(det[1])\n",
    "            class_name = class_names[class_id - 1]\n",
    "            color = COLORS[class_id]\n",
    "\n",
    "            x1 = int(det[3] * w)\n",
    "            y1 = int(det[4] * h)\n",
    "            x2 = int(det[5] * w)\n",
    "            y2 = int(det[6] * h)\n",
    "            cv2.rectangle(frame, (x1, y1), (x2, y2), color, 2)\n",
    "            label = f\"{class_name} {det[2]:.2f}\"\n",
    "            cv2.putText(frame, label, (x1, y1 - 5), cv2.FONT_HERSHEY_SIMPLEX, 0.5, color, 1)\n",
    "\n",
    "            # Area error\n",
    "            box_area = (x2 - x1) * (y2 - y1)\n",
    "            image_area = w * h\n",
    "            area_ratio = box_area / image_area\n",
    "            area_error = area_ratio - area_target\n",
    "\n",
    "            #print(f\"Area ratio: {area_ratio:.3f}, Area error: {area_error:.3f}\")\n",
    "\n",
    "            # Control movements\n",
    "            if drone_in_air and (time.time() - last_move_time) > move_interval:\n",
    "                moved = False\n",
    "\n",
    "                # Forward/backward control\n",
    "                if area_error < -area_tolerance:\n",
    "                    print(f\"Moving forward {move_step_cm} cm\")\n",
    "                    tello.move_forward(move_step_cm)\n",
    "                    moved = True\n",
    "                elif area_error > area_tolerance:\n",
    "                    print(f\"Moving back {move_step_cm} cm\")\n",
    "                    tello.move_back(move_step_cm)\n",
    "                    moved = True\n",
    "\n",
    "                # Left/right control (simple threshold-based)\n",
    "                bbox_center_x = (x1 + x2) / 2\n",
    "                frame_center_x = w / 2\n",
    "                x_offset = bbox_center_x - frame_center_x\n",
    "                \n",
    "                #print(f\"offset from center lr {abs(x_offset)}\")\n",
    "                if abs(x_offset) > pixel_threshold:\n",
    "                    if x_offset > 0:\n",
    "                        print(f\"Moving right {move_step_cm} cm\")\n",
    "                        tello.move_right(move_step_cm)\n",
    "                    else:\n",
    "                        print(f\"Moving left {move_step_cm} cm\")\n",
    "                        tello.move_left(move_step_cm)\n",
    "                    moved = True\n",
    "\n",
    "                if not moved:\n",
    "                    print(\"Within tolerance. Hovering.\")\n",
    "\n",
    "                last_move_time = time.time()\n",
    "\n",
    "        # Show video\n",
    "        cv2.imshow(\"Tello Tracking Feed\", frame)\n",
    "\n",
    "        # Controls\n",
    "        key = cv2.waitKey(1) & 0xFF\n",
    "\n",
    "        if key == ord('t') and not drone_in_air:\n",
    "            tello.takeoff()\n",
    "            drone_in_air = True\n",
    "            print(\"Drone is now airborne.\")\n",
    "            tello.move_up(50)\n",
    "\n",
    "        if drone_in_air:\n",
    "            if key == ord('w'):\n",
    "                tello.move_forward(50)\n",
    "            elif key == ord('a'):\n",
    "                tello.move_left(50)\n",
    "            elif key == ord('s'):\n",
    "                tello.move_back(50)\n",
    "            elif key == ord('d'):\n",
    "                tello.move_right(50)\n",
    "\n",
    "        if key == ord('q'):\n",
    "            if drone_in_air:\n",
    "                tello.land()\n",
    "                print(\"Drone has landed.\")\n",
    "            break\n",
    "\n",
    "except Exception as e:\n",
    "    print(f\"Error: {e}\")\n",
    "    if drone_in_air:\n",
    "        tello.land()\n",
    "\n",
    "except KeyboardInterrupt:\n",
    "    print(\"Interrupted. Landing drone.\")\n",
    "    if drone_in_air:\n",
    "        tello.land()\n",
    "\n",
    "finally:\n",
    "    tello.streamoff()\n",
    "    cv2.destroyAllWindows()\n"
   ]
  }
 ],
 "metadata": {
  "kernelspec": {
   "display_name": "Python 3",
   "language": "python",
   "name": "python3"
  },
  "language_info": {
   "codemirror_mode": {
    "name": "ipython",
    "version": 3
   },
   "file_extension": ".py",
   "mimetype": "text/x-python",
   "name": "python",
   "nbconvert_exporter": "python",
   "pygments_lexer": "ipython3",
   "version": "3.9.6"
  }
 },
 "nbformat": 4,
 "nbformat_minor": 5
}
