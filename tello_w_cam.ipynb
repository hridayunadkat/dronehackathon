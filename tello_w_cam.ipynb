{
 "cells": [
  {
   "cell_type": "code",
   "execution_count": null,
   "id": "ffbe06c7",
   "metadata": {},
   "outputs": [],
   "source": [
    "pip install djitellopy opencv-python pygame"
   ]
  },
  {
   "cell_type": "code",
   "execution_count": null,
   "id": "6607762a",
   "metadata": {},
   "outputs": [],
   "source": [
    "from djitellopy import tello\n",
    "import time\n",
    "import cv2"
   ]
  },
  {
   "cell_type": "markdown",
   "id": "9d87c844",
   "metadata": {},
   "source": [
    "# V0"
   ]
  },
  {
   "cell_type": "code",
   "execution_count": null,
   "id": "3e789fad",
   "metadata": {},
   "outputs": [],
   "source": [
    "from djitellopy import Tello\n",
    "import time\n",
    "\n",
    "# Create Tello object\n",
    "tello = Tello()\n",
    "\n",
    "# Connect to Tello\n",
    "print(\"Connecting to Tello...\")\n",
    "tello.connect()\n",
    "\n",
    "# Check battery level\n",
    "battery = tello.get_battery()\n",
    "print(f\"Battery level: {battery}%\")\n",
    "\n",
    "# Take off\n",
    "print(\"Taking off...\")\n",
    "tello.takeoff()\n",
    "\n",
    "# This line pauses the program for 2 seconds before moving on to the next command (tello.land()).\n",
    "\n",
    "time.sleep(2)\n",
    "\n",
    "\n",
    "tello.land()\n"
   ]
  },
  {
   "cell_type": "markdown",
   "id": "0ba3611b",
   "metadata": {},
   "source": [
    "# V1: movement forward and back"
   ]
  },
  {
   "cell_type": "code",
   "execution_count": null,
   "id": "5bc9ef45",
   "metadata": {},
   "outputs": [],
   "source": [
    "# from djitellopy import Tello\n",
    "# import time\n",
    "\n",
    "# # Create Tello object\n",
    "# tello = Tello()\n",
    "\n",
    "# # Connect to Tello\n",
    "# print(\"Connecting to Tello...\")\n",
    "# tello.connect()\n",
    "\n",
    "# # Check battery level\n",
    "# battery = tello.get_battery()\n",
    "# print(f\"Battery level: {battery}%\")\n",
    "\n",
    "# # Take off\n",
    "# print(\"Taking off...\")\n",
    "# tello.takeoff()\n",
    "\n",
    "# # This line pauses the program for 2 seconds before moving on to the next command (tello.land()).\n",
    "# # Hover for 2 seconds\n",
    "# time.sleep(2)\n",
    "\n",
    "# # Move forward 100 cm\n",
    "# print(\"Moving forward 100 cm...\")\n",
    "# tello.move_forward(100)\n",
    "\n",
    "# # Hover for 2 seconds\n",
    "# time.sleep(2)\n",
    "\n",
    "# # Move back 100 cm\n",
    "# print(\"Moving back 100 cm...\")\n",
    "# tello.move_back(100)\n",
    "\n",
    "# # Hover for 2 seconds\n",
    "# time.sleep(2)\n",
    "\n",
    "# # Land\n",
    "# print(\"Landing...\")\n",
    "# tello.land()\n",
    "\n",
    "# # Done\n",
    "# print(\"Mission complete.\")"
   ]
  },
  {
   "cell_type": "markdown",
   "id": "b09b4ef1",
   "metadata": {},
   "source": [
    "# V2 camera"
   ]
  },
  {
   "cell_type": "code",
   "execution_count": null,
   "id": "b18ad52b",
   "metadata": {},
   "outputs": [],
   "source": [
    "# from djitellopy import Tello\n",
    "# import cv2\n",
    "# import time\n",
    "\n",
    "# # Create Tello object\n",
    "# tello = Tello()\n",
    "\n",
    "# # Connect to Tello\n",
    "# print(\"Connecting to Tello...\")\n",
    "# tello.connect()\n",
    "\n",
    "# # Check battery level\n",
    "# battery = tello.get_battery()\n",
    "# print(f\"Battery level: {battery}%\")\n",
    "\n",
    "# # Start video stream\n",
    "# tello.streamon()\n",
    "\n",
    "# # Take off\n",
    "# print(\"Taking off...\")\n",
    "# tello.takeoff()\n",
    "\n",
    "# # Give it a second to stabilize\n",
    "# #time.sleep(2)\n",
    "\n",
    "# # Create OpenCV window and start showing frames\n",
    "# print(\"Showing camera feed. Press 'q' to land and quit.\")\n",
    "# while True:\n",
    "#     frame = tello.get_frame_read().frame  # Get current frame\n",
    "#     frame = cv2.resize(frame, (720, 480)) # Resize for display\n",
    "#     cv2.imshow(\"Tello Camera\", frame)     # Show frame in window\n",
    "\n",
    "#     # Check for 'q' key press to quit\n",
    "#     if cv2.waitKey(1) & 0xFF == ord('q'):\n",
    "#         break\n",
    "\n",
    "# # Land when 'q' is pressed\n",
    "# print(\"Landing...\")\n",
    "# tello.land()\n",
    "\n",
    "# # Stop video stream and close window\n",
    "# tello.streamoff()\n",
    "# cv2.destroyAllWindows()\n"
   ]
  },
  {
   "cell_type": "code",
   "execution_count": 1,
   "id": "94746f3f",
   "metadata": {},
   "outputs": [
    {
     "name": "stderr",
     "output_type": "stream",
     "text": [
      "[INFO] tello.py - 129 - Tello instance was initialized. Host: '192.168.10.1'. Port: '8889'.\n",
      "[INFO] tello.py - 438 - Send command: 'command'\n"
     ]
    },
    {
     "name": "stdout",
     "output_type": "stream",
     "text": [
      "Connecting to Tello...\n"
     ]
    },
    {
     "name": "stderr",
     "output_type": "stream",
     "text": [
      "[INFO] tello.py - 462 - Response command: 'ok'\n",
      "[INFO] tello.py - 438 - Send command: 'streamon'\n",
      "[INFO] tello.py - 462 - Response streamon: 'ok'\n"
     ]
    },
    {
     "name": "stdout",
     "output_type": "stream",
     "text": [
      "Battery level: 94%\n",
      "Showing camera feed. Press 'q' to land and quit.\n"
     ]
    },
    {
     "name": "stderr",
     "output_type": "stream",
     "text": [
      "2025-04-19 15:50:17.302 Python[15347:4074260] WARNING: Secure coding is automatically enabled for restorable state! However, not on all supported macOS versions of this application. Opt-in to secure coding explicitly by implementing NSApplicationDelegate.applicationSupportsSecureRestorableState:.\n",
      "[INFO] tello.py - 438 - Send command: 'streamoff'\n",
      "[INFO] tello.py - 462 - Response streamoff: 'ok'\n"
     ]
    }
   ],
   "source": [
    "from djitellopy import Tello\n",
    "import cv2\n",
    "import time\n",
    "\n",
    "# Create Tello object\n",
    "tello = Tello()\n",
    "\n",
    "# Connect to Tello\n",
    "print(\"Connecting to Tello...\")\n",
    "tello.connect()\n",
    "\n",
    "# Check battery level\n",
    "battery = tello.get_battery()\n",
    "print(f\"Battery level: {battery}%\")\n",
    "\n",
    "# Start video stream\n",
    "tello.streamon()\n",
    "\n",
    "# # Take off\n",
    "# print(\"Taking off...\")\n",
    "# tello.takeoff()\n",
    "\n",
    "# Give it a second to stabilize\n",
    "#time.sleep(2)\n",
    "\n",
    "# Create OpenCV window and start showing frames\n",
    "print(\"Showing camera feed. Press 'q' to land and quit.\")\n",
    "while True:\n",
    "    frame = tello.get_frame_read().frame  # Get current frame\n",
    "    frame = cv2.resize(frame, (720, 480)) # Resize for display\n",
    "    cv2.imshow(\"Tello Camera\", frame)     # Show frame in window\n",
    "\n",
    "    # Check for 'q' key press to quit\n",
    "    if cv2.waitKey(1) & 0xFF == ord('q'):\n",
    "        break\n",
    "\n",
    "# # Land when 'q' is pressed\n",
    "# print(\"Landing...\")\n",
    "# tello.land()\n",
    "\n",
    "# Stop video stream and close window\n",
    "tello.streamoff()\n",
    "cv2.destroyAllWindows()\n"
   ]
  }
 ],
 "metadata": {
  "kernelspec": {
   "display_name": "Python 3",
   "language": "python",
   "name": "python3"
  },
  "language_info": {
   "codemirror_mode": {
    "name": "ipython",
    "version": 3
   },
   "file_extension": ".py",
   "mimetype": "text/x-python",
   "name": "python",
   "nbconvert_exporter": "python",
   "pygments_lexer": "ipython3",
   "version": "3.9.6"
  }
 },
 "nbformat": 4,
 "nbformat_minor": 5
}
