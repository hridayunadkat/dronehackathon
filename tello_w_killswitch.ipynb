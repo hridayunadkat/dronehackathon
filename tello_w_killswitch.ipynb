{
 "cells": [
  {
   "cell_type": "code",
   "execution_count": 2,
   "id": "1f4b2408",
   "metadata": {},
   "outputs": [
    {
     "name": "stderr",
     "output_type": "stream",
     "text": [
      "[INFO] tello.py - 129 - Tello instance was initialized. Host: '192.168.10.1'. Port: '8889'.\n",
      "[INFO] tello.py - 438 - Send command: 'command'\n",
      "[INFO] tello.py - 462 - Response command: 'ok'\n"
     ]
    },
    {
     "name": "stdout",
     "output_type": "stream",
     "text": [
      "Connecting to Tello...\n",
      "Battery level: 61%\n"
     ]
    },
    {
     "name": "stderr",
     "output_type": "stream",
     "text": [
      "[INFO] tello.py - 438 - Send command: 'streamon'\n",
      "[INFO] tello.py - 462 - Response streamon: 'ok'\n"
     ]
    },
    {
     "name": "stdout",
     "output_type": "stream",
     "text": [
      "Press 't' to takeoff, 'q' to land and quit.\n"
     ]
    },
    {
     "name": "stderr",
     "output_type": "stream",
     "text": [
      "2025-04-19 20:40:38.978 Python[21549:4281531] WARNING: Secure coding is automatically enabled for restorable state! However, not on all supported macOS versions of this application. Opt-in to secure coding explicitly by implementing NSApplicationDelegate.applicationSupportsSecureRestorableState:.\n",
      "[INFO] tello.py - 438 - Send command: 'takeoff'\n",
      "[INFO] tello.py - 462 - Response takeoff: 'ok'\n",
      "[INFO] tello.py - 438 - Send command: 'up 50'\n"
     ]
    },
    {
     "name": "stdout",
     "output_type": "stream",
     "text": [
      "Drone is now airborne.\n"
     ]
    },
    {
     "name": "stderr",
     "output_type": "stream",
     "text": [
      "[INFO] tello.py - 462 - Response up 50: 'ok'\n",
      "[INFO] tello.py - 471 - Send command (no response expected): 'rc 0 0 0 0'\n",
      "[INFO] tello.py - 438 - Send command: 'forward 30'\n"
     ]
    },
    {
     "name": "stdout",
     "output_type": "stream",
     "text": [
      "Moving forward 30 cm\n"
     ]
    },
    {
     "name": "stderr",
     "output_type": "stream",
     "text": [
      "[INFO] tello.py - 462 - Response forward 30: 'ok'\n",
      "[INFO] tello.py - 438 - Send command: 'right 30'\n"
     ]
    },
    {
     "name": "stdout",
     "output_type": "stream",
     "text": [
      "Moving right 30 cm\n"
     ]
    },
    {
     "name": "stderr",
     "output_type": "stream",
     "text": [
      "[INFO] tello.py - 462 - Response right 30: 'ok'\n",
      "[INFO] tello.py - 471 - Send command (no response expected): 'rc 0 0 0 0'\n",
      "[INFO] tello.py - 471 - Send command (no response expected): 'rc 0 0 0 0'\n",
      "[INFO] tello.py - 471 - Send command (no response expected): 'rc 0 0 0 0'\n",
      "[INFO] tello.py - 471 - Send command (no response expected): 'rc 0 0 0 0'\n",
      "[INFO] tello.py - 471 - Send command (no response expected): 'rc 0 0 0 0'\n",
      "[INFO] tello.py - 471 - Send command (no response expected): 'rc 0 0 0 0'\n",
      "[INFO] tello.py - 471 - Send command (no response expected): 'rc 0 0 0 0'\n",
      "[INFO] tello.py - 471 - Send command (no response expected): 'rc 0 0 0 0'\n",
      "[INFO] tello.py - 471 - Send command (no response expected): 'rc 0 0 0 0'\n",
      "[INFO] tello.py - 471 - Send command (no response expected): 'rc 0 0 0 0'\n",
      "[INFO] tello.py - 471 - Send command (no response expected): 'rc 0 0 0 0'\n",
      "[INFO] tello.py - 471 - Send command (no response expected): 'rc 0 0 0 0'\n",
      "[INFO] tello.py - 471 - Send command (no response expected): 'rc 0 0 0 0'\n",
      "[INFO] tello.py - 471 - Send command (no response expected): 'rc 0 0 0 0'\n",
      "[INFO] tello.py - 471 - Send command (no response expected): 'rc 0 0 0 0'\n",
      "[INFO] tello.py - 471 - Send command (no response expected): 'rc 0 0 0 0'\n",
      "[INFO] tello.py - 471 - Send command (no response expected): 'rc 0 0 0 0'\n",
      "[INFO] tello.py - 471 - Send command (no response expected): 'rc 0 0 0 0'\n",
      "[INFO] tello.py - 471 - Send command (no response expected): 'rc 0 0 0 0'\n",
      "[INFO] tello.py - 471 - Send command (no response expected): 'rc 0 0 0 0'\n",
      "[INFO] tello.py - 438 - Send command: 'forward 30'\n"
     ]
    },
    {
     "name": "stdout",
     "output_type": "stream",
     "text": [
      "Moving forward 30 cm\n"
     ]
    },
    {
     "name": "stderr",
     "output_type": "stream",
     "text": [
      "[INFO] tello.py - 462 - Response forward 30: 'ok'\n",
      "[INFO] tello.py - 471 - Send command (no response expected): 'rc 0 0 0 0'\n",
      "[INFO] tello.py - 471 - Send command (no response expected): 'rc 0 0 0 0'\n",
      "[INFO] tello.py - 471 - Send command (no response expected): 'rc 0 0 0 0'\n",
      "[INFO] tello.py - 471 - Send command (no response expected): 'rc 0 0 0 0'\n",
      "[INFO] tello.py - 471 - Send command (no response expected): 'rc 0 0 0 0'\n",
      "[INFO] tello.py - 471 - Send command (no response expected): 'rc 0 0 0 0'\n",
      "[INFO] tello.py - 471 - Send command (no response expected): 'rc 0 0 0 0'\n",
      "[INFO] tello.py - 471 - Send command (no response expected): 'rc 0 0 0 0'\n",
      "[INFO] tello.py - 471 - Send command (no response expected): 'rc 0 0 0 0'\n",
      "[INFO] tello.py - 471 - Send command (no response expected): 'rc 0 0 0 0'\n",
      "[INFO] tello.py - 471 - Send command (no response expected): 'rc 0 0 0 0'\n",
      "[INFO] tello.py - 471 - Send command (no response expected): 'rc 0 0 0 0'\n",
      "[INFO] tello.py - 471 - Send command (no response expected): 'rc 0 0 0 0'\n",
      "[INFO] tello.py - 471 - Send command (no response expected): 'rc 0 0 0 0'\n",
      "[INFO] tello.py - 471 - Send command (no response expected): 'rc 0 0 0 0'\n",
      "[INFO] tello.py - 471 - Send command (no response expected): 'rc 0 0 0 0'\n",
      "[INFO] tello.py - 471 - Send command (no response expected): 'rc 0 0 0 0'\n",
      "[INFO] tello.py - 471 - Send command (no response expected): 'rc 0 0 0 0'\n",
      "[INFO] tello.py - 471 - Send command (no response expected): 'rc 0 0 0 0'\n",
      "[INFO] tello.py - 438 - Send command: 'forward 30'\n"
     ]
    },
    {
     "name": "stdout",
     "output_type": "stream",
     "text": [
      "Moving forward 30 cm\n"
     ]
    },
    {
     "name": "stderr",
     "output_type": "stream",
     "text": [
      "[INFO] tello.py - 462 - Response forward 30: 'ok'\n",
      "[INFO] tello.py - 471 - Send command (no response expected): 'rc 0 100 0 0'\n",
      "[INFO] tello.py - 471 - Send command (no response expected): 'rc 0 100 0 0'\n",
      "[INFO] tello.py - 471 - Send command (no response expected): 'rc 0 100 0 0'\n",
      "[INFO] tello.py - 471 - Send command (no response expected): 'rc 0 100 0 0'\n",
      "[INFO] tello.py - 471 - Send command (no response expected): 'rc 0 100 0 0'\n"
     ]
    },
    {
     "name": "stdout",
     "output_type": "stream",
     "text": [
      "Kill switch ENGAGED.\n",
      "[KILL SWITCH ENGAGED] Full send forward\n",
      "[KILL SWITCH ENGAGED] Full send forward\n",
      "[KILL SWITCH ENGAGED] Full send forward\n",
      "[KILL SWITCH ENGAGED] Full send forward\n",
      "[KILL SWITCH ENGAGED] Full send forward\n"
     ]
    },
    {
     "name": "stderr",
     "output_type": "stream",
     "text": [
      "[INFO] tello.py - 471 - Send command (no response expected): 'rc 0 100 0 0'\n",
      "[INFO] tello.py - 471 - Send command (no response expected): 'rc 0 100 0 0'\n",
      "[INFO] tello.py - 471 - Send command (no response expected): 'rc 0 100 0 0'\n",
      "[INFO] tello.py - 471 - Send command (no response expected): 'rc 0 100 0 0'\n",
      "[INFO] tello.py - 471 - Send command (no response expected): 'rc 0 100 0 0'\n"
     ]
    },
    {
     "name": "stdout",
     "output_type": "stream",
     "text": [
      "[KILL SWITCH ENGAGED] Full send forward\n",
      "[KILL SWITCH ENGAGED] Full send forward\n",
      "[KILL SWITCH ENGAGED] Full send forward\n",
      "[KILL SWITCH ENGAGED] Full send forward\n",
      "[KILL SWITCH ENGAGED] Full send forward\n"
     ]
    },
    {
     "name": "stderr",
     "output_type": "stream",
     "text": [
      "[INFO] tello.py - 471 - Send command (no response expected): 'rc 0 100 0 0'\n",
      "[INFO] tello.py - 471 - Send command (no response expected): 'rc 0 100 0 0'\n",
      "[INFO] tello.py - 471 - Send command (no response expected): 'rc 0 100 0 0'\n",
      "[INFO] tello.py - 471 - Send command (no response expected): 'rc 0 100 0 0'\n",
      "[INFO] tello.py - 471 - Send command (no response expected): 'rc 0 100 0 0'\n"
     ]
    },
    {
     "name": "stdout",
     "output_type": "stream",
     "text": [
      "[KILL SWITCH ENGAGED] Full send forward\n",
      "[KILL SWITCH ENGAGED] Full send forward\n",
      "[KILL SWITCH ENGAGED] Full send forward\n",
      "[KILL SWITCH ENGAGED] Full send forward\n",
      "[KILL SWITCH ENGAGED] Full send forward\n"
     ]
    },
    {
     "name": "stderr",
     "output_type": "stream",
     "text": [
      "[INFO] tello.py - 471 - Send command (no response expected): 'rc 0 100 0 0'\n",
      "[INFO] tello.py - 471 - Send command (no response expected): 'rc 0 100 0 0'\n",
      "[INFO] tello.py - 471 - Send command (no response expected): 'rc 0 100 0 0'\n",
      "[INFO] tello.py - 471 - Send command (no response expected): 'rc 0 100 0 0'\n",
      "[INFO] tello.py - 471 - Send command (no response expected): 'rc 0 100 0 0'\n",
      "[INFO] tello.py - 471 - Send command (no response expected): 'rc 0 100 0 0'\n"
     ]
    },
    {
     "name": "stdout",
     "output_type": "stream",
     "text": [
      "[KILL SWITCH ENGAGED] Full send forward\n",
      "[KILL SWITCH ENGAGED] Full send forward\n",
      "[KILL SWITCH ENGAGED] Full send forward\n",
      "[KILL SWITCH ENGAGED] Full send forward\n",
      "[KILL SWITCH ENGAGED] Full send forward\n",
      "[KILL SWITCH ENGAGED] Full send forward\n"
     ]
    },
    {
     "name": "stderr",
     "output_type": "stream",
     "text": [
      "[INFO] tello.py - 471 - Send command (no response expected): 'rc 0 100 0 0'\n",
      "[INFO] tello.py - 471 - Send command (no response expected): 'rc 0 100 0 0'\n",
      "[INFO] tello.py - 471 - Send command (no response expected): 'rc 0 100 0 0'\n",
      "[INFO] tello.py - 471 - Send command (no response expected): 'rc 0 100 0 0'\n",
      "[INFO] tello.py - 471 - Send command (no response expected): 'rc 0 100 0 0'\n"
     ]
    },
    {
     "name": "stdout",
     "output_type": "stream",
     "text": [
      "[KILL SWITCH ENGAGED] Full send forward\n",
      "[KILL SWITCH ENGAGED] Full send forward\n",
      "[KILL SWITCH ENGAGED] Full send forward\n",
      "[KILL SWITCH ENGAGED] Full send forward\n",
      "[KILL SWITCH ENGAGED] Full send forward\n"
     ]
    },
    {
     "name": "stderr",
     "output_type": "stream",
     "text": [
      "[INFO] tello.py - 471 - Send command (no response expected): 'rc 0 100 0 0'\n",
      "[INFO] tello.py - 471 - Send command (no response expected): 'rc 0 100 0 0'\n",
      "[INFO] tello.py - 471 - Send command (no response expected): 'rc 0 100 0 0'\n",
      "[INFO] tello.py - 471 - Send command (no response expected): 'rc 0 100 0 0'\n",
      "[INFO] tello.py - 471 - Send command (no response expected): 'rc 0 100 0 0'\n"
     ]
    },
    {
     "name": "stdout",
     "output_type": "stream",
     "text": [
      "[KILL SWITCH ENGAGED] Full send forward\n",
      "[KILL SWITCH ENGAGED] Full send forward\n",
      "[KILL SWITCH ENGAGED] Full send forward\n",
      "[KILL SWITCH ENGAGED] Full send forward\n",
      "[KILL SWITCH ENGAGED] Full send forward\n"
     ]
    },
    {
     "name": "stderr",
     "output_type": "stream",
     "text": [
      "[INFO] tello.py - 471 - Send command (no response expected): 'rc 0 100 0 0'\n",
      "[INFO] tello.py - 471 - Send command (no response expected): 'rc 0 100 0 0'\n",
      "[INFO] tello.py - 471 - Send command (no response expected): 'rc 0 100 0 0'\n",
      "[INFO] tello.py - 471 - Send command (no response expected): 'rc 0 100 0 0'\n"
     ]
    },
    {
     "name": "stdout",
     "output_type": "stream",
     "text": [
      "[KILL SWITCH ENGAGED] Full send forward\n",
      "[KILL SWITCH ENGAGED] Full send forward\n",
      "[KILL SWITCH ENGAGED] Full send forward\n",
      "[KILL SWITCH ENGAGED] Full send forward\n"
     ]
    },
    {
     "name": "stderr",
     "output_type": "stream",
     "text": [
      "[INFO] tello.py - 471 - Send command (no response expected): 'rc 0 100 0 0'\n",
      "[INFO] tello.py - 471 - Send command (no response expected): 'rc 0 100 0 0'\n",
      "[INFO] tello.py - 471 - Send command (no response expected): 'rc 0 100 0 0'\n",
      "[INFO] tello.py - 471 - Send command (no response expected): 'rc 0 100 0 0'\n",
      "[INFO] tello.py - 471 - Send command (no response expected): 'rc 0 100 0 0'\n"
     ]
    },
    {
     "name": "stdout",
     "output_type": "stream",
     "text": [
      "[KILL SWITCH ENGAGED] Full send forward\n",
      "[KILL SWITCH ENGAGED] Full send forward\n",
      "[KILL SWITCH ENGAGED] Full send forward\n",
      "[KILL SWITCH ENGAGED] Full send forward\n",
      "[KILL SWITCH ENGAGED] Full send forward\n"
     ]
    },
    {
     "name": "stderr",
     "output_type": "stream",
     "text": [
      "[INFO] tello.py - 471 - Send command (no response expected): 'rc 0 100 0 0'\n",
      "[INFO] tello.py - 471 - Send command (no response expected): 'rc 0 100 0 0'\n"
     ]
    },
    {
     "name": "stdout",
     "output_type": "stream",
     "text": [
      "[KILL SWITCH ENGAGED] Full send forward\n",
      "[KILL SWITCH ENGAGED] Full send forward\n"
     ]
    },
    {
     "name": "stderr",
     "output_type": "stream",
     "text": [
      "[INFO] tello.py - 471 - Send command (no response expected): 'rc 0 100 0 0'\n",
      "[INFO] tello.py - 471 - Send command (no response expected): 'rc 0 100 0 0'\n",
      "[INFO] tello.py - 471 - Send command (no response expected): 'rc 0 100 0 0'\n",
      "[INFO] tello.py - 471 - Send command (no response expected): 'rc 0 100 0 0'\n",
      "[INFO] tello.py - 471 - Send command (no response expected): 'rc 0 100 0 0'\n"
     ]
    },
    {
     "name": "stdout",
     "output_type": "stream",
     "text": [
      "[KILL SWITCH ENGAGED] Full send forward\n",
      "[KILL SWITCH ENGAGED] Full send forward\n",
      "[KILL SWITCH ENGAGED] Full send forward\n",
      "[KILL SWITCH ENGAGED] Full send forward\n",
      "[KILL SWITCH ENGAGED] Full send forward\n"
     ]
    },
    {
     "name": "stderr",
     "output_type": "stream",
     "text": [
      "[INFO] tello.py - 471 - Send command (no response expected): 'rc 0 100 0 0'\n",
      "[INFO] tello.py - 471 - Send command (no response expected): 'rc 0 100 0 0'\n",
      "[INFO] tello.py - 471 - Send command (no response expected): 'rc 0 100 0 0'\n",
      "[INFO] tello.py - 471 - Send command (no response expected): 'rc 0 100 0 0'\n",
      "[INFO] tello.py - 471 - Send command (no response expected): 'rc 0 100 0 0'\n"
     ]
    },
    {
     "name": "stdout",
     "output_type": "stream",
     "text": [
      "[KILL SWITCH ENGAGED] Full send forward\n",
      "[KILL SWITCH ENGAGED] Full send forward\n",
      "[KILL SWITCH ENGAGED] Full send forward\n",
      "[KILL SWITCH ENGAGED] Full send forward\n",
      "[KILL SWITCH ENGAGED] Full send forward\n"
     ]
    },
    {
     "name": "stderr",
     "output_type": "stream",
     "text": [
      "[INFO] tello.py - 471 - Send command (no response expected): 'rc 0 100 0 0'\n",
      "[INFO] tello.py - 471 - Send command (no response expected): 'rc 0 100 0 0'\n",
      "[INFO] tello.py - 471 - Send command (no response expected): 'rc 0 100 0 0'\n",
      "[INFO] tello.py - 471 - Send command (no response expected): 'rc 0 100 0 0'\n",
      "[INFO] tello.py - 471 - Send command (no response expected): 'rc 0 100 0 0'\n"
     ]
    },
    {
     "name": "stdout",
     "output_type": "stream",
     "text": [
      "[KILL SWITCH ENGAGED] Full send forward\n",
      "[KILL SWITCH ENGAGED] Full send forward\n",
      "[KILL SWITCH ENGAGED] Full send forward\n",
      "[KILL SWITCH ENGAGED] Full send forward\n",
      "[KILL SWITCH ENGAGED] Full send forward\n"
     ]
    },
    {
     "name": "stderr",
     "output_type": "stream",
     "text": [
      "[INFO] tello.py - 471 - Send command (no response expected): 'rc 0 100 0 0'\n",
      "[INFO] tello.py - 471 - Send command (no response expected): 'rc 0 100 0 0'\n",
      "[INFO] tello.py - 471 - Send command (no response expected): 'rc 0 100 0 0'\n",
      "[INFO] tello.py - 471 - Send command (no response expected): 'rc 0 100 0 0'\n",
      "[INFO] tello.py - 471 - Send command (no response expected): 'rc 0 100 0 0'\n"
     ]
    },
    {
     "name": "stdout",
     "output_type": "stream",
     "text": [
      "[KILL SWITCH ENGAGED] Full send forward\n",
      "[KILL SWITCH ENGAGED] Full send forward\n",
      "[KILL SWITCH ENGAGED] Full send forward\n",
      "[KILL SWITCH ENGAGED] Full send forward\n",
      "[KILL SWITCH ENGAGED] Full send forward\n"
     ]
    },
    {
     "name": "stderr",
     "output_type": "stream",
     "text": [
      "[INFO] tello.py - 471 - Send command (no response expected): 'rc 0 100 0 0'\n",
      "[INFO] tello.py - 471 - Send command (no response expected): 'rc 0 100 0 0'\n",
      "[INFO] tello.py - 471 - Send command (no response expected): 'rc 0 100 0 0'\n",
      "[INFO] tello.py - 471 - Send command (no response expected): 'rc 0 100 0 0'\n",
      "[INFO] tello.py - 471 - Send command (no response expected): 'rc 0 100 0 0'\n"
     ]
    },
    {
     "name": "stdout",
     "output_type": "stream",
     "text": [
      "[KILL SWITCH ENGAGED] Full send forward\n",
      "[KILL SWITCH ENGAGED] Full send forward\n",
      "[KILL SWITCH ENGAGED] Full send forward\n",
      "[KILL SWITCH ENGAGED] Full send forward\n",
      "[KILL SWITCH ENGAGED] Full send forward\n"
     ]
    },
    {
     "name": "stderr",
     "output_type": "stream",
     "text": [
      "[INFO] tello.py - 471 - Send command (no response expected): 'rc 0 100 0 0'\n",
      "[INFO] tello.py - 471 - Send command (no response expected): 'rc 0 100 0 0'\n",
      "[INFO] tello.py - 471 - Send command (no response expected): 'rc 0 100 0 0'\n",
      "[INFO] tello.py - 471 - Send command (no response expected): 'rc 0 100 0 0'\n"
     ]
    },
    {
     "name": "stdout",
     "output_type": "stream",
     "text": [
      "[KILL SWITCH ENGAGED] Full send forward\n",
      "[KILL SWITCH ENGAGED] Full send forward\n",
      "[KILL SWITCH ENGAGED] Full send forward\n",
      "[KILL SWITCH ENGAGED] Full send forward\n"
     ]
    },
    {
     "name": "stderr",
     "output_type": "stream",
     "text": [
      "[INFO] tello.py - 471 - Send command (no response expected): 'rc 0 100 0 0'\n",
      "[INFO] tello.py - 471 - Send command (no response expected): 'rc 0 100 0 0'\n",
      "[INFO] tello.py - 471 - Send command (no response expected): 'rc 0 100 0 0'\n"
     ]
    },
    {
     "name": "stdout",
     "output_type": "stream",
     "text": [
      "[KILL SWITCH ENGAGED] Full send forward\n",
      "[KILL SWITCH ENGAGED] Full send forward\n",
      "[KILL SWITCH ENGAGED] Full send forward\n"
     ]
    },
    {
     "name": "stderr",
     "output_type": "stream",
     "text": [
      "[INFO] tello.py - 471 - Send command (no response expected): 'rc 0 100 0 0'\n"
     ]
    },
    {
     "name": "stdout",
     "output_type": "stream",
     "text": [
      "[KILL SWITCH ENGAGED] Full send forward\n"
     ]
    },
    {
     "name": "stderr",
     "output_type": "stream",
     "text": [
      "[INFO] tello.py - 438 - Send command: 'land'\n",
      "[INFO] tello.py - 462 - Response land: 'error'\n",
      "[INFO] tello.py - 438 - Send command: 'land'\n",
      "[INFO] tello.py - 462 - Response land: 'error'\n",
      "[INFO] tello.py - 438 - Send command: 'land'\n",
      "[INFO] tello.py - 462 - Response land: 'error'\n",
      "[INFO] tello.py - 438 - Send command: 'land'\n",
      "[INFO] tello.py - 462 - Response land: 'error'\n",
      "[INFO] tello.py - 438 - Send command: 'land'\n"
     ]
    },
    {
     "name": "stdout",
     "output_type": "stream",
     "text": [
      "Error: Command 'land' was unsuccessful for 4 tries. Latest response:\t'error'\n"
     ]
    },
    {
     "name": "stderr",
     "output_type": "stream",
     "text": [
      "[INFO] tello.py - 462 - Response land: 'error'\n",
      "[INFO] tello.py - 438 - Send command: 'land'\n",
      "[INFO] tello.py - 462 - Response land: 'ok'\n",
      "[INFO] tello.py - 438 - Send command: 'streamoff'\n",
      "[INFO] tello.py - 462 - Response streamoff: 'error'\n",
      "[INFO] tello.py - 438 - Send command: 'streamoff'\n",
      "[INFO] tello.py - 462 - Response streamoff: 'ok'\n"
     ]
    }
   ],
   "source": [
    "from djitellopy import Tello\n",
    "import cv2\n",
    "import numpy as np\n",
    "import time\n",
    "\n",
    "def detection_center(det):\n",
    "    \"\"\"Center x, y normalized to [-0.5, 0.5]\"\"\"\n",
    "    cx = (det[3] + det[5]) / 2.0 - 0.5\n",
    "    cy = (det[4] + det[6]) / 2.0 - 0.5\n",
    "    return (cx, cy)\n",
    "\n",
    "def norm(vec):\n",
    "    return np.sqrt(vec[0]**2 + vec[1]**2)\n",
    "\n",
    "def closest_detection(detections):\n",
    "    best_det = None\n",
    "    min_dist = float('inf')\n",
    "    for det in detections[0, 0]:\n",
    "        if det[2] > 0.4 and int(det[1]) == 1:  # 'person'\n",
    "            center = detection_center(det)\n",
    "            distance = norm(center)\n",
    "            if distance < min_dist:\n",
    "                min_dist = distance\n",
    "                best_det = det\n",
    "    return best_det\n",
    "\n",
    "# Load COCO class names\n",
    "with open('COCO/object_detection_classes_coco.txt', 'r') as f:\n",
    "    class_names = f.read().split('\\n')\n",
    "\n",
    "COLORS = np.random.uniform(0, 255, size=(len(class_names), 3))\n",
    "\n",
    "model = cv2.dnn.readNet(model='COCO/frozen_inference_graph.pb',\n",
    "                        config='COCO/ssd_mobilenet_v2_coco_2018_03_29.pbtxt.txt',\n",
    "                        framework='TensorFlow')\n",
    "\n",
    "tello = Tello()\n",
    "print(\"Connecting to Tello...\")\n",
    "tello.connect()\n",
    "print(f\"Battery level: {tello.get_battery()}%\")\n",
    "tello.streamon()\n",
    "\n",
    "print(\"Press 't' to takeoff, 'q' to land and quit.\")\n",
    "drone_in_air = False\n",
    "kill_switch_engaged = False  # Kill switch flag\n",
    "\n",
    "# Control parameters\n",
    "area_target = 0.25\n",
    "area_tolerance = 0.05\n",
    "move_step_cm = 30\n",
    "pixel_threshold = 40  # pixels for left/right decision\n",
    "\n",
    "last_move_time = time.time()\n",
    "move_interval = 0.8  # seconds between moves\n",
    "\n",
    "try:\n",
    "    while True:\n",
    "        frame = tello.get_frame_read().frame\n",
    "        frame = cv2.resize(frame, (720, 480))\n",
    "        h, w, _ = frame.shape\n",
    "\n",
    "        # Object detection\n",
    "        blob = cv2.dnn.blobFromImage(frame, size=(300, 300), mean=(104, 117, 123), swapRB=True)\n",
    "        model.setInput(blob)\n",
    "        detections = model.forward()\n",
    "        det = closest_detection(detections)\n",
    "\n",
    "        if det is not None:\n",
    "            class_id = int(det[1])\n",
    "            class_name = class_names[class_id - 1]\n",
    "            color = COLORS[class_id]\n",
    "\n",
    "            x1 = int(det[3] * w)\n",
    "            y1 = int(det[4] * h)\n",
    "            x2 = int(det[5] * w)\n",
    "            y2 = int(det[6] * h)\n",
    "            cv2.rectangle(frame, (x1, y1), (x2, y2), color, 2)\n",
    "            label = f\"{class_name} {det[2]:.2f}\"\n",
    "            cv2.putText(frame, label, (x1, y1 - 5), cv2.FONT_HERSHEY_SIMPLEX, 0.5, color, 1)\n",
    "\n",
    "            box_area = (x2 - x1) * (y2 - y1)\n",
    "            image_area = w * h\n",
    "            area_ratio = box_area / image_area\n",
    "            area_error = area_ratio - area_target\n",
    "\n",
    "            bbox_center_x = (x1 + x2) / 2\n",
    "            frame_center_x = w / 2\n",
    "            x_offset = bbox_center_x - frame_center_x\n",
    "\n",
    "            if drone_in_air:\n",
    "                if kill_switch_engaged:\n",
    "                    # Continuous max forward velocity\n",
    "                    print(f\"[KILL SWITCH ENGAGED] Full send forward\")\n",
    "                    tello.send_rc_control(0, 100, 0, 0)  # (lr, fb, ud, yaw)\n",
    "                else:\n",
    "                    # Stop continuous motion\n",
    "                    tello.send_rc_control(0, 0, 0, 0)\n",
    "\n",
    "                    if (time.time() - last_move_time) > move_interval:\n",
    "                        moved = False\n",
    "\n",
    "                        if area_error < -area_tolerance:\n",
    "                            print(f\"Moving forward {move_step_cm} cm\")\n",
    "                            tello.move_forward(move_step_cm)\n",
    "                            moved = True\n",
    "                        elif area_error > area_tolerance:\n",
    "                            print(f\"Moving back {move_step_cm} cm\")\n",
    "                            tello.move_back(move_step_cm)\n",
    "                            moved = True\n",
    "\n",
    "                        if abs(x_offset) > pixel_threshold:\n",
    "                            if x_offset > 0:\n",
    "                                print(f\"Moving right {move_step_cm} cm\")\n",
    "                                tello.move_right(move_step_cm)\n",
    "                            else:\n",
    "                                print(f\"Moving left {move_step_cm} cm\")\n",
    "                                tello.move_left(move_step_cm)\n",
    "                            moved = True\n",
    "\n",
    "                        if not moved:\n",
    "                            print(\"Within tolerance. Hovering.\")\n",
    "\n",
    "                        last_move_time = time.time()\n",
    "\n",
    "        cv2.imshow(\"Tello Tracking Feed\", frame)\n",
    "\n",
    "        key = cv2.waitKey(1) & 0xFF\n",
    "\n",
    "        if key == ord('t') and not drone_in_air:\n",
    "            tello.takeoff()\n",
    "            drone_in_air = True\n",
    "            print(\"Drone is now airborne.\")\n",
    "            tello.move_up(50)\n",
    "\n",
    "        if drone_in_air:\n",
    "            if key == ord('w'):\n",
    "                tello.move_forward(50)\n",
    "            elif key == ord('a'):\n",
    "                tello.move_left(50)\n",
    "            elif key == ord('s'):\n",
    "                tello.move_back(50)\n",
    "            elif key == ord('d'):\n",
    "                tello.move_right(50)\n",
    "\n",
    "        if key == ord('k'):\n",
    "            kill_switch_engaged = not kill_switch_engaged\n",
    "            state = \"ENGAGED\" if kill_switch_engaged else \"DISENGAGED\"\n",
    "            print(f\"Kill switch {state}.\")\n",
    "            if not kill_switch_engaged:\n",
    "                tello.send_rc_control(0, 0, 0, 0)  # stop movement immediately\n",
    "\n",
    "        if key == ord('q'):\n",
    "            if drone_in_air:\n",
    "                tello.land()\n",
    "                print(\"Drone has landed.\")\n",
    "            break\n",
    "\n",
    "except Exception as e:\n",
    "    print(f\"Error: {e}\")\n",
    "    if drone_in_air:\n",
    "        tello.land()\n",
    "\n",
    "except KeyboardInterrupt:\n",
    "    print(\"Interrupted. Landing drone.\")\n",
    "    if drone_in_air:\n",
    "        tello.land()\n",
    "\n",
    "finally:\n",
    "    tello.streamoff()\n",
    "    cv2.destroyAllWindows()\n"
   ]
  }
 ],
 "metadata": {
  "kernelspec": {
   "display_name": "Python 3",
   "language": "python",
   "name": "python3"
  },
  "language_info": {
   "codemirror_mode": {
    "name": "ipython",
    "version": 3
   },
   "file_extension": ".py",
   "mimetype": "text/x-python",
   "name": "python",
   "nbconvert_exporter": "python",
   "pygments_lexer": "ipython3",
   "version": "3.9.6"
  }
 },
 "nbformat": 4,
 "nbformat_minor": 5
}
